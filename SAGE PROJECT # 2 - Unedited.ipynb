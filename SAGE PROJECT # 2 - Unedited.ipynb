{
 "cells": [
  {
   "cell_type": "code",
   "execution_count": 10,
   "metadata": {
    "collapsed": false
   },
   "outputs": [
    {
     "name": "stdout",
     "output_type": "stream",
     "text": [
      "[[67 61 92 ... 64 79 35]\n",
      " [50 49 10 ... 13 65  4]\n",
      " [53 90 49 ... 61 35 52]\n",
      " ...\n",
      " [57 62 79 ... 87 61 90]\n",
      " [44 12  2 ... 49 82 59]\n",
      " [37 17 70 ... 70 47 34]]\n",
      "[[59 85 31 ... 53 57 50]\n",
      " [43  6 36 ... 28 15 96]\n",
      " [ 7 72 54 ... 14 26 61]\n",
      " ...\n",
      " [32 74 73 ... 13 38  2]\n",
      " [14 96 91 ... 25 18 59]\n",
      " [59 60 21 ... 88 11 26]]\n",
      "[[87 80  7 ... 27 25  3]\n",
      " [96  7 32 ... 88 72 46]\n",
      " [90 99 98 ...  5 51 79]\n",
      " ...\n",
      " [83 60 73 ... 63 72 81]\n",
      " [99 83 80 ... 85  8 88]\n",
      " [92 12 61 ... 55 75 34]]\n",
      "[[21 90 29 ... 97 34 77]\n",
      " [44  3 14 ... 99 94 14]\n",
      " [78 32  8 ... 24 68 55]\n",
      " ...\n",
      " [77 26 42 ... 40 41 34]\n",
      " [ 6 66 14 ... 40 50 37]\n",
      " [29 37 31 ... 15 20 78]]\n",
      "[[39 82 24 ... 60 50 42]\n",
      " [58 30 79 ... 95 35 42]\n",
      " [76 48 24 ... 38 50 18]\n",
      " ...\n",
      " [65  5 43 ...  4 49 37]\n",
      " [44 30 96 ... 25 18 79]\n",
      " [71 94 32 ... 49 75 59]]\n",
      "[[20  7 73 ... 77 77 53]\n",
      " [27  9 23 ... 53 12 59]\n",
      " [32 67  3 ... 29 51  7]\n",
      " ...\n",
      " [39 13 84 ... 87  6 35]\n",
      " [92 79  7 ... 65 62 93]\n",
      " [19 79 44 ... 98  3 14]]\n",
      "[[13 17 44 ... 89 67 61]\n",
      " [76 55 83 ... 94 19 73]\n",
      " [43 36 60 ... 74 60 68]\n",
      " ...\n",
      " [84 48 72 ...  2 67 57]\n",
      " [76 17 73 ... 20 13 31]\n",
      " [87  6 41 ... 37 59 58]]\n",
      "[[93 16 28 ... 62 62 65]\n",
      " [69 22 81 ... 88 60 76]\n",
      " [72 46  3 ... 13 31 76]\n",
      " ...\n",
      " [52 81 85 ... 80 56 21]\n",
      " [87 20 92 ... 90 25 97]\n",
      " [90 20 30 ... 18 28 10]]\n",
      "[[37 80 57 ... 98 83 89]\n",
      " [33 88 77 ... 38 69 35]\n",
      " [60 24 69 ... 44 37 29]\n",
      " ...\n",
      " [60 72 42 ... 60 61 28]\n",
      " [63 50 97 ... 62  9 64]\n",
      " [86 91 43 ... 70 16  7]]\n"
     ]
    }
   ],
   "source": [
    "#Question 1 \n",
    "import numpy as np\n",
    "for i in range(100,1000,100):\n",
    "    A=np.random.randint(1,10,size=(i,i)) #problem is i think it generates different i for row and column\n",
    "    print(A)"
   ]
  },
  {
   "cell_type": "code",
   "execution_count": 2,
   "metadata": {
    "collapsed": false
   },
   "outputs": [
    {
     "name": "stdout",
     "output_type": "stream",
     "text": [
      "186\n"
     ]
    }
   ],
   "source": [
    "#Question 1 \n",
    "import numpy as np\n",
    "i=np.random.randint(100,1000,100)\n",
    "j=np.random.randint(100,1000,100)# not sure why it doesn't stepsize it 100\n",
    "A=np.random.choice(i)\n",
    "print(A)"
   ]
  },
  {
   "cell_type": "code",
   "execution_count": 3,
   "metadata": {
    "collapsed": false
   },
   "outputs": [
    {
     "name": "stdout",
     "output_type": "stream",
     "text": [
      "((900, 900), array([[9, 7, 3, ..., 1, 6, 1],\n",
      "       [8, 9, 5, ..., 7, 4, 9],\n",
      "       [3, 5, 5, ..., 3, 8, 7],\n",
      "       ...,\n",
      "       [4, 2, 9, ..., 3, 5, 5],\n",
      "       [5, 7, 2, ..., 6, 8, 8],\n",
      "       [3, 3, 9, ..., 2, 5, 8]]))\n"
     ]
    },
    {
     "data": {
      "text/plain": [
       "array([[-0.00339639,  0.00565475,  0.00793942, ...,  0.00252926,\n",
       "        -0.00017245, -0.00318453],\n",
       "       [ 0.00333216, -0.00118445,  0.00343342, ...,  0.01275978,\n",
       "         0.0026361 ,  0.00038034],\n",
       "       [ 0.01856356,  0.01307672, -0.00967428, ...,  0.02263733,\n",
       "        -0.01225843,  0.00859622],\n",
       "       ...,\n",
       "       [-0.03310555,  0.00065267,  0.0102733 , ..., -0.05513447,\n",
       "         0.01818069, -0.00767754],\n",
       "       [-0.00394585, -0.00035368, -0.00370691, ..., -0.0035375 ,\n",
       "         0.00013566,  0.0073952 ],\n",
       "       [ 0.00571211,  0.00757922, -0.00012752, ...,  0.01168064,\n",
       "         0.00217453, -0.00668259]])"
      ]
     },
     "execution_count": 3,
     "metadata": {
     },
     "output_type": "execute_result"
    }
   ],
   "source": [
    "import numpy as np\n",
    "i=np.arange(100,1000,100)\n",
    "A=np.random.choice(i)\n",
    "M=np.random.randint(1,10,size=(A,A))\n",
    "print(M.shape,M)\n",
    "np.linalg.inv(M) # A.is_singular() and A.invisble wont work"
   ]
  },
  {
   "cell_type": "code",
   "execution_count": 2,
   "metadata": {
    "collapsed": false
   },
   "outputs": [
    {
     "name": "stdout",
     "output_type": "stream",
     "text": [
      "(800, 800)\n",
      "False\n"
     ]
    },
    {
     "data": {
      "text/plain": [
       "625 loops, best of 3: 107 ns per loop"
      ]
     },
     "execution_count": 2,
     "metadata": {
     },
     "output_type": "execute_result"
    }
   ],
   "source": [
    "# Question 1 - Run Time\n",
    "import numpy as np\n",
    "i=np.arange(100,1000,100)\n",
    "A=np.random.choice(i)\n",
    "M=random_matrix(ZZ,A,A)\n",
    "print(M.nrows(),M.ncols())\n",
    "print(M.is_singular())\n",
    "timeit('M.inverse')"
   ]
  },
  {
   "cell_type": "code",
   "execution_count": 15,
   "metadata": {
    "collapsed": false
   },
   "outputs": [
    {
     "name": "stdout",
     "output_type": "stream",
     "text": [
      "(400, 400)\n",
      "False\n"
     ]
    },
    {
     "data": {
      "image/png": "[encoded data removed]",
      "text/plain": [
       "Graphics object consisting of 1 graphics primitive"
      ]
     },
     "execution_count": 15,
     "metadata": {
     },
     "output_type": "execute_result"
    }
   ],
   "source": [
    "# Question 2 - Graph Comparing Run Time\n",
    "import numpy as np\n",
    "from sage.plot.scatter_plot import ScatterPlot\n",
    "i=np.arange(100,1000,100)\n",
    "A=np.random.choice(i)\n",
    "M=random_matrix(ZZ,A,A)\n",
    "print(M.nrows(),M.ncols())\n",
    "print(M.is_singular())\n",
    "timeit('M.inverse')\n",
    "list_plot([A,A]) # cant use sage.plot.scatter_plot since i used numpy array - also this gives (0,A) and (1,A) for some reason idk why"
   ]
  },
  {
   "cell_type": "code",
   "execution_count": 39,
   "metadata": {
    "collapsed": false
   },
   "outputs": [
    {
     "name": "stdout",
     "output_type": "stream",
     "text": [
      "(900, 900)\n",
      "5.45501708984e-08\n",
      "(800, 800)\n",
      "5.26428222656e-08\n",
      "(100, 100)\n",
      "5.45501708984e-08\n",
      "(200, 200)\n",
      "5.14984130859e-08\n",
      "[-2.23338299e+20  2.37830144e+13 -6.32275000e+05]\n",
      "[500. 800. 500. 200.]\n"
     ]
    },
    {
     "data": {
      "text/plain": [
       "<matplotlib.collections.PathCollection object at 0x7fc51e83e690>"
      ]
     },
     "execution_count": 39,
     "metadata": {
     },
     "output_type": "execute_result"
    },
    {
     "data": {
      "image/png": "[encoded data removed]",
      "text/plain": [
       "<Figure size 432x288 with 1 Axes>"
      ]
     },
     "execution_count": 39,
     "metadata": {
     },
     "output_type": "execute_result"
    }
   ],
   "source": [
    "# Question 2 - Graph Comparing Run Time\n",
    "#Now we will get more points for the graph at least 5 points (can we right a repeat code that saves the different points and put them in graph??)\n",
    "\n",
    "import numpy as np\n",
    "import matplotlib.pyplot as plt\n",
    "T=[]\n",
    "n=[]\n",
    "i=np.arange(100,1000,100)\n",
    "\n",
    "A=np.random.choice(i)\n",
    "if A not in n: \n",
    "    n.append(A) \n",
    "    M1=random_matrix(ZZ,A,A)\n",
    "    print(M1.nrows(),M1.ncols())\n",
    "    T1=timeit('M1.inverse', seconds=True) #seconds=True will give us machine readable Data\n",
    "    print(T1)\n",
    "    T.append(T1)\n",
    "\n",
    "B=np.random.choice(i)\n",
    "if B not in n:\n",
    "    n.append(B)\n",
    "    M2=random_matrix(ZZ,B,B)\n",
    "    print(M2.nrows(),M2.ncols())\n",
    "    T2=timeit('M2.inverse', seconds=True)\n",
    "    print(T2)\n",
    "    T.append(T2)\n",
    "\n",
    "C=np.random.choice(i)\n",
    "if C not in n:\n",
    "    n.append(C)\n",
    "    M3=random_matrix(ZZ,C,C)\n",
    "    print(M3.ncols(),M3.nrows())\n",
    "    T3=timeit('M3.inverse', seconds=True)\n",
    "    print(T3)\n",
    "    T.append(T3)\n",
    "\n",
    "D=np.random.choice(i)\n",
    "if D not in n:\n",
    "    n.append(D)\n",
    "    M4=random_matrix(ZZ,D,D)\n",
    "    print(M4.ncols(),M4.nrows())\n",
    "    T4=timeit('M4.inverse', seconds=True)\n",
    "    print(T4)\n",
    "    T.append(T4)\n",
    "\n",
    "E=np.random.choice(i)\n",
    "if E not in n:\n",
    "    n.append(E)\n",
    "    M5=random_matrix(ZZ,E,E)\n",
    "    print(M5.ncols(),M5.nrows())\n",
    "    T5=timeit('M5.inverse', seconds=True)\n",
    "    print(T5)\n",
    "    T.append(T5)\n",
    "\n",
    "F=np.random.choice(i)\n",
    "if F not in n:\n",
    "    n.append(F)\n",
    "    M6=random_matrix(ZZ,F,F)\n",
    "    print(M6.ncols(),M6.nrows())\n",
    "    T6=timeit('M6.inverse', seconds=True)\n",
    "    print(T6)\n",
    "    T.append(T6)\n",
    "\n",
    "G=np.random.choice(i)\n",
    "if G not in n:\n",
    "    n.append(G)\n",
    "    M7=random_matrix(ZZ,G,G)\n",
    "    print(M7.ncols(),M7.nrows())\n",
    "    T7=timeit('M7.inverse', seconds=True)\n",
    "    print(T7)\n",
    "    T.append(T7)\n",
    "\n",
    "p=np.polyfit(T,n,2)\n",
    "print(np.polyfit(T,n,2)) # calculates coefficients of quadratic equation n=aT^2+bT+c/[a,b,c]\n",
    "y=np.polyval(p,T) # calculates polynomial eqaution pnx^n+...+p0x^0 / aT^2+bT+c=y=n but y is different than n?\n",
    "print(y)\n",
    "plt.plot(T,y,'m:')\n",
    "plt.scatter(T,n)\n",
    "\n",
    "#list_plot(np.array([[T1,A],[T2,B],[T3,C],[T4,D],[T5,E],[T6,F],[T7,G]])) one option for scatter but will use plt to combine scatter line in one graph"
   ]
  },
  {
   "cell_type": "code",
   "execution_count": 0,
   "metadata": {
    "collapsed": false
   },
   "outputs": [
   ],
   "source": [
    "# Question 2 - Trend Description"
   ]
  },
  {
   "cell_type": "code",
   "execution_count": 0,
   "metadata": {
    "collapsed": false
   },
   "outputs": [
   ],
   "source": [
    "# Challange Problem\n",
    "m = matrix(QQ, 3, 3, lambda i, j: i+j); m #what is i and j and how does this work?\n",
    "[0 1 2]\n",
    "[1 2 3]\n",
    "[2 3 4]\n",
    "sage: m = matrix(3, lambda i,j: i-j); m\n",
    "[ 0 -1 -2]\n",
    "[ 1  0 -1]\n",
    "[ 2  1  0]"
   ]
  },
  {
   "cell_type": "code",
   "execution_count": 0,
   "metadata": {
    "collapsed": false
   },
   "outputs": [
   ],
   "source": [
    "# Question 3 - Linear Transfromatiion \n",
    "#if a matrix is singular/ not invertible :\n",
    "# 1- It can not be multiplied by any other matrix to get the identity matrix/ not invetible- matrix multiply by its inverse=identity matrix\n",
    "# 2- Singular matrix determinant is zero.\n",
    "# 3- Since its not invertible means not all rows or columns are linearly independent\n",
    "# 4- The rank is less than min of rows/coumns whichever is minimum \n",
    "# 5- Nullity of a matrix= order of a matrix - rank of a matrix hence the nullity of singlar matrix is not zero unlike non-singular\n",
    "# 6- The rows does not span R^number of columns since columns are not linearly independent\n",
    "# 7- eigenvalue is zero\n",
    "# 8- kernel of a transformation has basis matrix set of the elements of the domain that become zero when transformed under T."
   ]
  },
  {
   "cell_type": "code",
   "execution_count": 30,
   "metadata": {
    "collapsed": false
   },
   "outputs": [
    {
     "name": "stdout",
     "output_type": "stream",
     "text": [
      "('vector v is', (5, 5), 'and its transformation under T is ', (15, -15))\n",
      "Vector space of degree 2 and dimension 1 over Rational Field\n",
      "Basis matrix:\n",
      "[   1 -1/2]\n",
      "[(18, -9), (18, -9), (1, -1/2), (11, -11/2), (9, -9/2), (8, -4), (6, -3), (3, -3/2), (0, 0), (16, -8), (10, -5), (3, -3/2), (18, -9), (9, -9/2), (13, -13/2), (6, -3), (10, -5), (11, -11/2), (2, -1), (15, -15/2)]\n"
     ]
    }
   ],
   "source": [
    "# Question 5 - Linear Transformation\n",
    "\n",
    "# command for T=Ax(x,y)\n",
    "import numpy as np\n",
    "x,y=var('x, y')\n",
    "T_symbolic(x,y)=[x+2*y,-1*x-2*y]\n",
    "T=linear_transformation(QQ^2,QQ^2,T_symbolic)\n",
    "\n",
    "i=np.arange(1,10,1)\n",
    "V=vector(QQ,[np.random.choice(i), np.random.choice(i)])\n",
    "T_V=T(V)\n",
    "print(\"vector v is\",V,\"and its transformation under T is \",T(V))\n",
    "print(T.kernel())\n",
    "\n",
    "#any scalar multiplication of the kernel of T will set to 0 under T/H={c*[1,-1/2] for c in R}\n",
    "K=vector(QQ,[1,-1/2])\n",
    "c=[randrange(0,20) for i in range(20)]\n",
    "H=[K*i for i in c]\n",
    "print(H)\n",
    "# T(H) not sure how to input 2d list in one funcation and i dont know how to choose froma 2d list\n"
   ]
  },
  {
   "cell_type": "code",
   "execution_count": 77,
   "metadata": {
    "collapsed": false
   },
   "outputs": [
    {
     "name": "stdout",
     "output_type": "stream",
     "text": [
      "('vector v is', (7, 4), 'and its transformation under T is ', (15, -15))\n",
      "Vector space of degree 2 and dimension 1 over Rational Field\n",
      "Basis matrix:\n",
      "[   1 -1/2]\n"
     ]
    }
   ],
   "source": [
    "# Question 5 - Linear Transformation\n",
    "\n",
    "# command for T=Ax(x,y)\n",
    "import numpy as np\n",
    "x,y=var('x, y')\n",
    "output=[x+2*y,-1*x-2*y]\n",
    "T_symbolic(x,y)=output\n",
    "T=linear_transformation(QQ^2,QQ^2,T_symbolic)\n",
    "\n",
    "i=np.arange(1,10,1)\n",
    "V=vector(QQ,[np.random.choice(i), np.random.choice(i)])\n",
    "T_V=T(V)\n",
    "print(\"vector v is\",V,\"and its transformation under T is \",T(V))\n",
    "print(T.kernel())\n",
    "\n",
    "#any scalar multiplication of the kernel of T will set to 0 under T/H={c*[1,-1/2] for c in R}\n",
    "K=vector(QQ,[1,-1/2])\n",
    "j=np.arange(0,20,1)\n",
    "c=np.random.choice(j)\n",
    "#H=c*K is an array not a vector - why? \n",
    "# how to use a.any() a.all()?\n"
   ]
  },
  {
   "cell_type": "code",
   "execution_count": 78,
   "metadata": {
    "collapsed": false
   },
   "outputs": [
    {
     "name": "stdout",
     "output_type": "stream",
     "text": [
      "('vector v is', (4, 3), 'and its transformation under T is ', (10, -10))\n",
      "Vector space of degree 2 and dimension 1 over Rational Field\n",
      "Basis matrix:\n",
      "[   1 -1/2]\n",
      "((2, -1), (0, 0))\n",
      "((6, -3), (0, 0))\n",
      "((0, 0), (0, 0))\n",
      "((5, -5/2), (0, 0))\n",
      "((5, -5/2), (0, 0))\n",
      "((16, -8), (0, 0))\n",
      "((3, -3/2), (0, 0))\n",
      "((13, -13/2), (0, 0))\n",
      "((15, -15/2), (0, 0))\n",
      "((18, -9), (0, 0))\n",
      "((7, -7/2), (0, 0))\n",
      "((17, -17/2), (0, 0))\n",
      "((2, -1), (0, 0))\n",
      "((17, -17/2), (0, 0))\n",
      "((9, -9/2), (0, 0))\n",
      "((18, -9), (0, 0))\n",
      "((2, -1), (0, 0))\n",
      "((17, -17/2), (0, 0))\n",
      "((8, -4), (0, 0))\n",
      "((19, -19/2), (0, 0))\n"
     ]
    }
   ],
   "source": [
    "# Question 5 - Linear Transformation\n",
    "\n",
    "# command for T=Ax(x,y)\n",
    "import numpy as np\n",
    "x,y=var('x, y')\n",
    "output=[x+2*y,-1*x-2*y]\n",
    "T_symbolic(x,y)=output\n",
    "T=linear_transformation(QQ^2,QQ^2,T_symbolic)\n",
    "\n",
    "i=np.arange(1,10,1)\n",
    "V=vector(QQ,[np.random.choice(i), np.random.choice(i)])\n",
    "T_V=T(V)\n",
    "print(\"vector v is\",V,\"and its transformation under T is \",T(V))\n",
    "print(T.kernel())\n",
    "\n",
    "#any scalar multiplication of the kernel of T will set to 0 under T/H={c*[1,-1/2] for c in R}\n",
    "for i in range(20):\n",
    "    j=np.arange(0,20,1)\n",
    "    c=np.random.choice(j)\n",
    "    H=vector(QQ,[c*1,c*(-1/2)])\n",
    "    print(H,T(H))\n"
   ]
  },
  {
   "cell_type": "code",
   "execution_count": 12,
   "metadata": {
    "collapsed": false
   },
   "outputs": [
    {
     "name": "stdout",
     "output_type": "stream",
     "text": [
      "Vector space of degree 2 and dimension 0 over Rational Field\n",
      "Basis matrix:\n",
      "[]\n"
     ]
    },
    {
     "data": {
      "image/png": "[encoded data removed]",
      "text/plain": [
       "Graphics object consisting of 2 graphics primitives"
      ]
     },
     "execution_count": 12,
     "metadata": {
     },
     "output_type": "execute_result"
    },
    {
     "name": "stdout",
     "output_type": "stream",
     "text": [
      "2\n"
     ]
    }
   ],
   "source": [
    "# Question 5 - Image of transformation\n",
    "import numpy as np\n",
    "x,y=var('x,y')\n",
    "outputs= [x+2*y,-1*x+2*y]\n",
    "T_symbolic(x,y)= outputs\n",
    "T=linear_transformation(QQ^2,QQ^2, T_symbolic)\n",
    "print(T.kernel())\n",
    "\n",
    "M=matrix(QQ,[[1,2],[-1,2]])\n",
    "unit_square = list([vector([-1,-1]),vector([1,-1]),vector([1,1]),vector([-1,1])])\n",
    "unit_square_transformation = [ M * i for i in unit_square]\n",
    "P = polygon(unit_square) + sage.plot.scatter_plot.scatter_plot(unit_square_transformation)\n",
    "P.set_aspect_ratio(1)\n",
    "show(P)\n",
    "print(M.rank())"
   ]
  },
  {
   "cell_type": "code",
   "execution_count": 0,
   "metadata": {
    "collapsed": false
   },
   "outputs": [
   ],
   "source": [
    "# There is no matrix basis for this transformation kernel. The reason is the matrix is full rank meaning all the rows and columns are linearly independent.\n",
    "# The equation Ax = 0 has only the trivial solution x = 0. The kernel of A is trivial, that is, it contains only the null vector as an element, ker(A) = {0}.\n",
    "# The points are unit square transformation under matrix A. \n",
    "# image of T:\n",
    "# 1- Im(T) is the span of linearly independent columns.\n",
    "# 2- Let  T:V→W  be a linear transformation where  V,W  are vector spaces. Suppose the dimension of  V  is  n . Then  n=dim(ker(T))+dim(im(T)) .\n",
    "# 3- For any matrix dim(Im(A))=rank of A so the im(T) is R^2.\n",
    "# 4- if T is a linear transformation from R^2 to R^2 with 2*2 matrix A then A.rank + nullity of A(dimention of A.kernel)= dim(im A)+ dim(kernel A)= number of columns. Here rank of A is 2 + nullity is zero = dim of im(A) which is 2 + 0=2"
   ]
  },
  {
   "cell_type": "code",
   "execution_count": 2,
   "metadata": {
    "collapsed": false
   },
   "outputs": [
    {
     "name": "stdout",
     "output_type": "stream",
     "text": [
      "Vector space of degree 2 and dimension 0 over Rational Field\n",
      "Basis matrix:\n",
      "[]\n"
     ]
    },
    {
     "data": {
      "image/png": "[encoded data removed]",
      "text/plain": [
       "<Figure size 432x288 with 1 Axes>"
      ]
     },
     "execution_count": 2,
     "metadata": {
     },
     "output_type": "execute_result"
    },
    {
     "name": "stdout",
     "output_type": "stream",
     "text": [
      "2\n"
     ]
    }
   ],
   "source": [
    "# Question 5 - Honor \n",
    "# A linear transformation under matrix A takes unit circle onto an ecllipse. \n",
    "# unit circle x^2+y^2=1  hence y=+ and - sqrt(1-x^2)\n",
    "import numpy as np\n",
    "import matplotlib.pyplot as plt\n",
    "import seaborn as sns\n",
    "x,y=var('x,y')\n",
    "outputs= [x+2*y,-1*x+2*y]\n",
    "T_symbolic(x,y)= outputs\n",
    "T=linear_transformation(QQ^2,QQ^2, T_symbolic)\n",
    "print(T.kernel())\n",
    "\n",
    "# M.[x,y] unit circle = [x+2y,-x+2y]\n",
    "M=matrix(QQ,[[1,2],[-1,2]])\n",
    "x=np.linspace(-1,1,100000)\n",
    "y=np.sqrt(1-x^2)\n",
    "x1=np.linspace(-1,1,100000)\n",
    "y1=np.sqrt((1-x^2)/4)\n",
    "plt.plot(x,y,sns.color_palette(\"Blues_d\").as_hex()[0]) #don't understand as.hex_()[0]\n",
    "plt.plot(x,-y,sns.color_palette(\"Blues_d\").as_hex()[0])\n",
    "plt.xlim(-1.5,1.5)\n",
    "plt.ylim(-1.5,1.5)\n",
    "plt.plot(x1,y1,sns.color_palette(\"RdBu\").as_hex()[0])\n",
    "plt.plot(x1,-1*y1,sns.color_palette(\"RdBu\").as_hex()[0])\n",
    "plt.show()\n",
    "\n",
    "print(M.rank())"
   ]
  },
  {
   "cell_type": "code",
   "execution_count": 0,
   "metadata": {
    "collapsed": false
   },
   "outputs": [
   ],
   "source": [
   ]
  },
  {
   "cell_type": "code",
   "execution_count": 0,
   "metadata": {
    "collapsed": false
   },
   "outputs": [
   ],
   "source": [
   ]
  }
 ],
 "metadata": {
  "kernelspec": {
   "display_name": "SageMath (default)",
   "language": "sagemath",
   "metadata": {
    "cocalc": {
     "description": "Open-source mathematical software system",
     "priority": 10,
     "url": "https://www.sagemath.org/"
    }
   },
   "name": "sagemath"
  },
  "language_info": {
   "codemirror_mode": {
    "name": "ipython",
    "version": 2
   },
   "file_extension": ".py",
   "mimetype": "text/x-python",
   "name": "python",
   "nbconvert_exporter": "python",
   "pygments_lexer": "ipython2",
   "version": "2.7.15"
  }
 },
 "nbformat": 4,
 "nbformat_minor": 4
}