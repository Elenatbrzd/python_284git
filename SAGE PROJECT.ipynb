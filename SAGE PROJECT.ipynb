{
 "cells": [
  {
   "cell_type": "code",
   "execution_count": 1,
   "metadata": {
    "collapsed": false
   },
   "outputs": [
    {
     "data": {
      "text/plain": [
       "[1 0 0]\n",
       "[0 1 0]\n",
       "[0 0 1]"
      ]
     },
     "execution_count": 1,
     "metadata": {
     },
     "output_type": "execute_result"
    }
   ],
   "source": [
    "#Question 1\n",
    "A = matrix(QQ, 3, [1,2,3,7,7,5,11,13,15])\n",
    "A.rref()"
   ]
  },
  {
   "cell_type": "code",
   "execution_count": 3,
   "metadata": {
    "collapsed": false
   },
   "outputs": [
    {
     "data": {
      "text/plain": [
       "3"
      ]
     },
     "execution_count": 3,
     "metadata": {
     },
     "output_type": "execute_result"
    }
   ],
   "source": [
    "A.rank()"
   ]
  },
  {
   "cell_type": "code",
   "execution_count": 4,
   "metadata": {
    "collapsed": false
   },
   "outputs": [
    {
     "data": {
      "text/plain": [
       "(1273/36, -395/9, 437/36)"
      ]
     },
     "execution_count": 4,
     "metadata": {
     },
     "output_type": "execute_result"
    }
   ],
   "source": [
    "b= random_vector(QQ,3)\n",
    "A.solve_right(b)"
   ]
  },
  {
   "cell_type": "code",
   "execution_count": 5,
   "metadata": {
    "collapsed": false
   },
   "outputs": [
    {
     "data": {
      "text/plain": [
       "[      1       0       0 1273/36]\n",
       "[      0       1       0  -395/9]\n",
       "[      0       0       1  437/36]"
      ]
     },
     "execution_count": 5,
     "metadata": {
     },
     "output_type": "execute_result"
    }
   ],
   "source": [
    "A.augment(b).rref()"
   ]
  },
  {
   "cell_type": "code",
   "execution_count": 7,
   "metadata": {
    "collapsed": false
   },
   "outputs": [
    {
     "name": "stdout",
     "output_type": "stream",
     "text": [
      "(-3/2, 2/5, -1)\n",
      "(-11/4, -5, 1)\n",
      "(-1, -3/11, 2)\n",
      "(-3, 1/28, -1)\n",
      "(0, 0, 0)\n",
      "(-5, 1, 1)\n",
      "(-1, 2, -1)\n",
      "(-1, 0, -15)\n",
      "(-2, -1, 4)\n",
      "(0, -3, -1)\n"
     ]
    }
   ],
   "source": [
    "for i in range(10):\n",
    "    print(random_vector(QQ,3))\n",
    "#mistakes to avoid: i does not need to be associated in any of the written formulas in order to range.\n",
    "#b= random_vector(QQ,3) for i in range(10) print(b) will give 10 of the same random. the randome cod needs to be im print() to get 10 Different randomes.\n",
    "# Dont forget to put : at the end of for code"
   ]
  },
  {
   "cell_type": "code",
   "execution_count": 29,
   "metadata": {
    "collapsed": false,
    "scrolled": true
   },
   "outputs": [
    {
     "data": {
      "text/plain": [
       "(35/18, -55/18, 11/9)"
      ]
     },
     "execution_count": 29,
     "metadata": {
     },
     "output_type": "execute_result"
    }
   ],
   "source": [
    "A = matrix(QQ, 3, [1,2,3,7,7,5,11,13,15])\n",
    "b= random_vector(QQ,3)\n",
    "A.solve_right(b,range(10)) #not sure why this didnt work"
   ]
  },
  {
   "cell_type": "code",
   "execution_count": 33,
   "metadata": {
    "collapsed": false
   },
   "outputs": [
    {
     "name": "stdout",
     "output_type": "stream",
     "text": [
      "(10/3, -14/3, 5/3)\n",
      "(10/3, -14/3, 5/3)\n",
      "(10/3, -14/3, 5/3)\n",
      "(10/3, -14/3, 5/3)\n",
      "(10/3, -14/3, 5/3)\n",
      "(10/3, -14/3, 5/3)\n",
      "(10/3, -14/3, 5/3)\n",
      "(10/3, -14/3, 5/3)\n",
      "(10/3, -14/3, 5/3)\n",
      "(10/3, -14/3, 5/3)\n"
     ]
    }
   ],
   "source": [
    "A = matrix(QQ, 3, [1,2,3,7,7,5,11,13,15])\n",
    "b= random_vector(QQ,3)\n",
    "for i in range(10):\n",
    "    print(A.solve_right(b))\n",
    "# putting A.solve after for alone will print 10 random but solves only one. In order to get 10 random solved results A. solve and random have to be written in the loop. not sure why"
   ]
  },
  {
   "cell_type": "code",
   "execution_count": 40,
   "metadata": {
    "collapsed": false
   },
   "outputs": [
    {
     "name": "stdout",
     "output_type": "stream",
     "text": [
      "(7/18, -1/9, -1/18)\n",
      "(-253/378, 148/189, -71/378)\n",
      "(14/9, -49/9, 31/9)\n",
      "(-334/4347, 1661/17388, -65/2484)\n",
      "(91/36, -29/9, 35/36)\n",
      "(37/12, -47/12, 7/6)\n",
      "(-43/18, -8/9, 79/18)\n",
      "(-631/144, 391/72, -215/144)\n",
      "(-1/19, 2/19, -1/19)\n",
      "(-17/9, 83/18, -47/18)\n"
     ]
    }
   ],
   "source": [
    "A = matrix(QQ, 3, [1,2,3,7,7,5,11,13,15])\n",
    "b= random_vector(QQ,3)\n",
    "for i in range(10):\n",
    "    print(A.solve_right(random_vector(QQ,3))) #this seems like the right answer but wish I could print 10 random vectors and then see the 10 solutions printed for each to double check the results"
   ]
  },
  {
   "cell_type": "code",
   "execution_count": 30,
   "metadata": {
    "collapsed": false
   },
   "outputs": [
    {
     "name": "stdout",
     "output_type": "stream",
     "text": [
      "The Matrix A is invertible\n",
      "System is consistant\n",
      "unique solution\n",
      "point\n"
     ]
    },
    {
     "data": {
      "image/png": "[encoded data removed]",
      "text/plain": [
       "Graphics object consisting of 1 graphics primitive"
      ]
     },
     "execution_count": 30,
     "metadata": {
     },
     "output_type": "execute_result"
    },
    {
     "name": "stdout",
     "output_type": "stream",
     "text": [
      "[[1 2 1]\n",
      "[3 4 2], [  1   0   0]\n",
      "[  0   1 1/2], 2, -2, 2, 2, 0, [  1   0   0]\n",
      "[  0   1 1/2], (0, 1/2)]\n"
     ]
    }
   ],
   "source": [
    "# Question2 \n",
    "# function with multiple returns\n",
    "def fun(A,b):\n",
    "    C = A.augment(b)\n",
    "    D = C.rref()\n",
    "    E = A.rank()\n",
    "    F = A.det()\n",
    "    R=A.nrows()\n",
    "    if F == 0:\n",
    "        print(\"The Matrix A is not invertible\")\n",
    "    else:\n",
    "        print(\"The Matrix A is invertible\") \n",
    "#Note make sure to put : at the end of both and make sure the sppacing is correct. if else is not under if \"unindent does not match any outer indentation level\" will show up as an error. also == meams equal not just =.\n",
    "    G = D.rank() # if rank of matrix is not equal to rank of augmented matrix solution is incostintent. if A matrix of m*n has a rank of n the solution is constent for all b in Ax=b also if rank of matrix is<number of matrix rows is inconsistant meaning no solution\n",
    "    if G==E or R==E:\n",
    "        print(\"System is consistant\")\n",
    "    else:\n",
    "        print(\"System is inconsistant\")\n",
    "    H=A.ncols() #num of columns of A\n",
    "    S=H-G #Dimensions of solution Space is number of columns- rank which is number of free variables. if the number of free variable is 2=line 3=plane 0= point\n",
    "    if H>G:\n",
    "        print(\"infinit solution\")\n",
    "    elif H==G:\n",
    "        print(\"unique solution\")\n",
    "    if S==0:\n",
    "        print(\"point\")\n",
    "    elif S==2:\n",
    "        print(\"line\")\n",
    "    elif S==3:\n",
    "        print(\"plane\")\n",
    "    M=A.solve_right(b)\n",
    "    show(plot(M))\n",
    "    return [C,D,E,F,G,H,S,D,M]\n",
    "L = fun(matrix(QQ,2,[1,2,3,4]), vector(QQ,[1,2]))\n",
    "print(L)\n"
   ]
  },
  {
   "cell_type": "code",
   "execution_count": 33,
   "metadata": {
    "collapsed": false
   },
   "outputs": [
    {
     "name": "stdout",
     "output_type": "stream",
     "text": [
      "The Matrix A is invertible\n",
      "System is consistant\n",
      "unique solution\n",
      "point\n"
     ]
    },
    {
     "data": {
      "text/html": "\n<iframe srcdoc=\"<!DOCTYPE html>\n<html>\n<head>\n<title></title>\n<meta charset=&quot;utf-8&quot;>\n<meta name=viewport content=&quot;width=device-width, user-scalable=no, minimum-scale=1.0, maximum-scale=1.0&quot;>\n<style>\n\n    body { margin: 0px; overflow: hidden; }\n\n    #menu-container { position: absolute; bottom: 30px; right: 40px; }\n\n    #menu-content { position: absolute; bottom: 0px; right: 0px;\n                    display: none; background-color: #F5F5F5; border-bottom: 1px solid black;\n                    border-right: 1px solid black; border-left: 1px solid black; }\n\n    #menu-content div { border-top: 1px solid black; padding: 10px; white-space: nowrap; }\n  \n</style>\n</head>\n\n<body>\n\n<script src=&quot;/nbextensions/threejs/build/three.min.js&quot;></script>\n<script src=&quot;/nbextensions/threejs/examples/js/controls/OrbitControls.js&quot;></script>\n<script>\n  if ( !window.THREE ) document.write(' \\\n<script src=&quot;https://cdn.jsdelivr.net/gh/mrdoob/three.js@r110/build/three.min.js&quot;><\\/script> \\\n<script src=&quot;https://cdn.jsdelivr.net/gh/mrdoob/three.js@r110/examples/js/controls/OrbitControls.js&quot;><\\/script> \\\n            ');\n</script>\n        \n<script>\n\n    var scene = new THREE.Scene();\n\n    var renderer = new THREE.WebGLRenderer( { antialias: true, preserveDrawingBuffer: true } );\n    renderer.setPixelRatio( window.devicePixelRatio );\n    renderer.setSize( window.innerWidth, window.innerHeight );\n    renderer.setClearColor( 0xffffff, 1 );\n    document.body.appendChild( renderer.domElement );\n\n    var options = {&quot;aspect_ratio&quot;: [1.0, 1.0, 1.0], &quot;axes&quot;: false, &quot;axes_labels&quot;: [&quot;x&quot;, &quot;y&quot;, &quot;z&quot;], &quot;decimals&quot;: 2, &quot;frame&quot;: true, &quot;projection&quot;: &quot;perspective&quot;};\n\n    // When animations are supported by the viewer, the value 'false'\n    // will be replaced with an option set in Python by the user\n    var animate = false; // options.animate;\n\n    var b = [{&quot;x&quot;:-0.2, &quot;y&quot;:0.0, &quot;z&quot;:0.0}, {&quot;x&quot;:0.0, &quot;y&quot;:0.0, &quot;z&quot;:0.4}]; // bounds\n\n    if ( b[0].x === b[1].x ) {\n        b[0].x -= 1;\n        b[1].x += 1;\n    }\n    if ( b[0].y === b[1].y ) {\n        b[0].y -= 1;\n        b[1].y += 1;\n    }\n    if ( b[0].z === b[1].z ) {\n        b[0].z -= 1;\n        b[1].z += 1;\n    }\n\n    var rRange = Math.sqrt( Math.pow( b[1].x - b[0].x, 2 )\n                            + Math.pow( b[1].y - b[0].y, 2 ) );\n    var xRange = b[1].x - b[0].x;\n    var yRange = b[1].y - b[0].y;\n    var zRange = b[1].z - b[0].z;\n\n    var ar = options.aspect_ratio;\n    var a = [ ar[0], ar[1], ar[2] ]; // aspect multipliers\n    var autoAspect = 2.5;\n    if ( zRange > autoAspect * rRange && a[2] === 1 ) a[2] = autoAspect * rRange / zRange;\n\n    // Distance from (xMid,yMid,zMid) to any corner of the bounding box, after applying aspect_ratio.\n    var midToCorner = Math.sqrt( a[0]*a[0]*xRange*xRange + a[1]*a[1]*yRange*yRange + a[2]*a[2]*zRange*zRange ) / 2;\n\n    var xMid = ( b[0].x + b[1].x ) / 2;\n    var yMid = ( b[0].y + b[1].y ) / 2;\n    var zMid = ( b[0].z + b[1].z ) / 2;\n\n    var box = new THREE.Geometry();\n    box.vertices.push( new THREE.Vector3( a[0]*b[0].x, a[1]*b[0].y, a[2]*b[0].z ) );\n    box.vertices.push( new THREE.Vector3( a[0]*b[1].x, a[1]*b[1].y, a[2]*b[1].z ) );\n    var boxMesh = new THREE.Line( box );\n    if ( options.frame ) scene.add( new THREE.BoxHelper( boxMesh, 'black' ) );\n\n    if ( options.axes_labels ) {\n\n        var d = options.decimals; // decimals\n        var offsetRatio = 0.1;\n        var al = options.axes_labels;\n\n        var offset = offsetRatio * a[1]*( b[1].y - b[0].y );\n        var xm = xMid.toFixed(d);\n        if ( /^-0.?0*$/.test(xm) ) xm = xm.substr(1);\n        addLabel( al[0] + '=' + xm, a[0]*xMid, a[1]*b[1].y+offset, a[2]*b[0].z );\n        addLabel( ( b[0].x ).toFixed(d), a[0]*b[0].x, a[1]*b[1].y+offset, a[2]*b[0].z );\n        addLabel( ( b[1].x ).toFixed(d), a[0]*b[1].x, a[1]*b[1].y+offset, a[2]*b[0].z );\n\n        var offset = offsetRatio * a[0]*( b[1].x - b[0].x );\n        var ym = yMid.toFixed(d);\n        if ( /^-0.?0*$/.test(ym) ) ym = ym.substr(1);\n        addLabel( al[1] + '=' + ym, a[0]*b[1].x+offset, a[1]*yMid, a[2]*b[0].z );\n        addLabel( ( b[0].y ).toFixed(d), a[0]*b[1].x+offset, a[1]*b[0].y, a[2]*b[0].z );\n        addLabel( ( b[1].y ).toFixed(d), a[0]*b[1].x+offset, a[1]*b[1].y, a[2]*b[0].z );\n\n        var offset = offsetRatio * a[1]*( b[1].y - b[0].y );\n        var zm = zMid.toFixed(d);\n        if ( /^-0.?0*$/.test(zm) ) zm = zm.substr(1);\n        addLabel( al[2] + '=' + zm, a[0]*b[1].x, a[1]*b[0].y-offset, a[2]*zMid );\n        addLabel( ( b[0].z ).toFixed(d), a[0]*b[1].x, a[1]*b[0].y-offset, a[2]*b[0].z );\n        addLabel( ( b[1].z ).toFixed(d), a[0]*b[1].x, a[1]*b[0].y-offset, a[2]*b[1].z );\n\n    }\n\n    function addLabel( text, x, y, z ) {\n\n        var fontsize = 14;\n\n        var canvas = document.createElement( 'canvas' );\n        var pixelRatio = Math.round( window.devicePixelRatio );\n        canvas.width = 128 * pixelRatio;\n        canvas.height = 32 * pixelRatio; // powers of two\n        canvas.style.width = '128px';\n        canvas.style.height = '32px';\n\n        var context = canvas.getContext( '2d' );\n        context.scale( pixelRatio, pixelRatio );\n        context.fillStyle = 'black';\n        context.font = fontsize + 'px monospace';\n        context.textAlign = 'center';\n        context.textBaseline = 'middle';\n        context.fillText( text, canvas.width/2/pixelRatio, canvas.height/2/pixelRatio );\n\n        var texture = new THREE.Texture( canvas );\n        texture.needsUpdate = true;\n\n        var sprite = new THREE.Sprite( new THREE.SpriteMaterial( { map: texture } ) );\n        sprite.position.set( x, y, z );\n\n        // Set the initial scale based on plot size to accomodate orthographic projection.\n        // For other projections, the scale will get reset each frame based on camera distance.\n        var scale = midToCorner/2;\n        sprite.scale.set( scale, scale*.25 ); // ratio of canvas width to height\n\n        scene.add( sprite );\n\n    }\n\n    if ( options.axes ) scene.add( new THREE.AxesHelper( Math.min( a[0]*b[1].x, a[1]*b[1].y, a[2]*b[1].z ) ) );\n\n    var camera = createCamera();\n    camera.up.set( 0, 0, 1 );\n    camera.position.set( a[0]*(xMid+xRange), a[1]*(yMid+yRange), a[2]*(zMid+zRange) );\n\n    function createCamera() {\n\n        var aspect = window.innerWidth / window.innerHeight;\n\n        if ( options.projection === 'orthographic' ) {\n            var camera = new THREE.OrthographicCamera( -1, 1, 1, -1, -1000, 1000 );\n            updateCameraAspect( camera, aspect );\n            return camera;\n        }\n\n        return new THREE.PerspectiveCamera( 45, aspect, 0.1, 1000 );\n\n    }\n\n    function updateCameraAspect( camera, aspect ) {\n\n        if ( camera.isPerspectiveCamera ) {\n            camera.aspect = aspect;\n        } else if ( camera.isOrthographicCamera ) {\n            // Fit the camera frustum to the bounding box's diagonal so that the entire plot fits\n            // within at the default zoom level and camera position.\n            if ( aspect > 1 ) { // Wide window\n                camera.top = midToCorner;\n                camera.right = midToCorner * aspect;\n            } else { // Tall or square window\n                camera.top = midToCorner / aspect;\n                camera.right = midToCorner;\n            }\n            camera.bottom = -camera.top;\n            camera.left = -camera.right;\n        }\n\n        camera.updateProjectionMatrix();\n\n    }\n\n    var lights = [{&quot;x&quot;:-5, &quot;y&quot;:3, &quot;z&quot;:0, &quot;color&quot;:&quot;#7f7f7f&quot;, &quot;parent&quot;:&quot;camera&quot;}];\n    for ( var i=0 ; i < lights.length ; i++ ) {\n        var light = new THREE.DirectionalLight( lights[i].color, 1 );\n        light.position.set( a[0]*lights[i].x, a[1]*lights[i].y, a[2]*lights[i].z );\n        if ( lights[i].parent === 'camera' ) {\n            light.target.position.set( a[0]*xMid, a[1]*yMid, a[2]*zMid );\n            scene.add( light.target );\n            camera.add( light );\n        } else scene.add( light );\n    }\n    scene.add( camera );\n\n    var ambient = {&quot;color&quot;:&quot;#7f7f7f&quot;};\n    scene.add( new THREE.AmbientLight( ambient.color, 1 ) );\n\n    var controls = new THREE.OrbitControls( camera, renderer.domElement );\n    controls.target.set( a[0]*xMid, a[1]*yMid, a[2]*zMid );\n    controls.addEventListener( 'change', function() { if ( !animate ) render(); } );\n\n    window.addEventListener( 'resize', function() {\n        \n        renderer.setSize( window.innerWidth, window.innerHeight );\n        updateCameraAspect( camera, window.innerWidth / window.innerHeight );\n        if ( !animate ) render();\n        \n    } );\n\n    var texts = [];\n    for ( var i=0 ; i < texts.length ; i++ )\n        addLabel( texts[i].text, a[0]*texts[i].x, a[1]*texts[i].y, a[2]*texts[i].z );\n\n    var points = [];\n    for ( var i=0 ; i < points.length ; i++ ) addPoint( points[i] );\n\n    function addPoint( json ) {\n\n        var geometry = new THREE.Geometry();\n        var v = json.point;\n        geometry.vertices.push( new THREE.Vector3( a[0]*v[0], a[1]*v[1], a[2]*v[2] ) );\n\n        var canvas = document.createElement( 'canvas' );\n        canvas.width = 128;\n        canvas.height = 128;\n\n        var context = canvas.getContext( '2d' );\n        context.arc( 64, 64, 64, 0, 2 * Math.PI );\n        context.fillStyle = json.color;\n        context.fill();\n\n        var texture = new THREE.Texture( canvas );\n        texture.needsUpdate = true;\n\n        var transparent = json.opacity < 1 ? true : false;\n        var size = camera.isOrthographicCamera ? json.size : json.size/100;\n        var material = new THREE.PointsMaterial( { size: size, map: texture,\n                                                   transparent: transparent, opacity: json.opacity,\n                                                   alphaTest: .1 } );\n\n        var c = new THREE.Vector3();\n        geometry.computeBoundingBox();\n        geometry.boundingBox.getCenter( c );\n        geometry.translate( -c.x, -c.y, -c.z );\n\n        var mesh = new THREE.Points( geometry, material );\n        mesh.position.set( c.x, c.y, c.z );\n        scene.add( mesh );\n\n    }\n\n    var lines = [{&quot;points&quot;:[[0.0, 0.0, 0.0], [-0.2, 0.0, 0.4]], &quot;color&quot;:&quot;blue&quot;, &quot;opacity&quot;:1.0, &quot;linewidth&quot;:1}];\n    for ( var i=0 ; i < lines.length ; i++ ) addLine( lines[i] );\n\n    function addLine( json ) {\n\n        var geometry = new THREE.Geometry();\n        for ( var i=0 ; i < json.points.length ; i++ ) {\n            var v = json.points[i];\n            geometry.vertices.push( new THREE.Vector3( a[0]*v[0], a[1]*v[1], a[2]*v[2] ) );\n        }\n\n        var transparent = json.opacity < 1 ? true : false;\n        var material = new THREE.LineBasicMaterial( { color: json.color, linewidth: json.linewidth,\n                                                      transparent: transparent, opacity: json.opacity } );\n\n        var c = new THREE.Vector3();\n        geometry.computeBoundingBox();\n        geometry.boundingBox.getCenter( c );\n        geometry.translate( -c.x, -c.y, -c.z );\n\n        var mesh = new THREE.Line( geometry, material );\n        mesh.position.set( c.x, c.y, c.z );\n        scene.add( mesh );\n\n    }\n\n    var surfaces = [];\n    for ( var i=0 ; i < surfaces.length ; i++ ) addSurface( surfaces[i] );\n\n    function addSurface( json ) {\n\n        var useFaceColors = 'faceColors' in json ? true : false;\n\n        var geometry = new THREE.Geometry();\n        for ( var i=0 ; i < json.vertices.length ; i++ ) {\n            var v = json.vertices[i];\n            geometry.vertices.push( new THREE.Vector3( a[0]*v.x, a[1]*v.y, a[2]*v.z ) );\n        }\n        for ( var i=0 ; i < json.faces.length ; i++ ) {\n            var f = json.faces[i];\n            for ( var j=0 ; j < f.length - 2 ; j++ ) {\n                var face = new THREE.Face3( f[0], f[j+1], f[j+2] );\n                if ( useFaceColors ) face.color.set( json.faceColors[i] );\n                geometry.faces.push( face );\n            }\n        }\n        geometry.computeVertexNormals();\n\n        var side = json.singleSide ? THREE.FrontSide : THREE.DoubleSide;\n        var transparent = json.opacity < 1 ? true : false;\n\n        var material = new THREE.MeshPhongMaterial( { side: side,\n                                     color: useFaceColors ? 'white' : json.color,\n                                     vertexColors: useFaceColors ? THREE.FaceColors : THREE.NoColors,\n                                     transparent: transparent, opacity: json.opacity,\n                                     shininess: 20, flatShading: json.useFlatShading } );\n\n        var c = new THREE.Vector3();\n        geometry.computeBoundingBox();\n        geometry.boundingBox.getCenter( c );\n        geometry.translate( -c.x, -c.y, -c.z );\n\n        var mesh = new THREE.Mesh( geometry, material );\n        mesh.position.set( c.x, c.y, c.z );\n        if ( transparent && json.renderOrder ) mesh.renderOrder = json.renderOrder;\n        scene.add( mesh );\n\n        if ( json.showMeshGrid ) {\n\n            var geometry = new THREE.Geometry();\n\n            for ( var i=0 ; i < json.faces.length ; i++ ) {\n                var f = json.faces[i];\n                for ( var j=0 ; j < f.length ; j++ ) {\n                    var k = j === f.length-1 ? 0 : j+1;\n                    var v1 = json.vertices[f[j]];\n                    var v2 = json.vertices[f[k]];\n                    // vertices in opposite directions on neighboring faces\n                    var nudge = f[j] < f[k] ? .0005*zRange : -.0005*zRange;\n                    geometry.vertices.push( new THREE.Vector3( a[0]*v1.x, a[1]*v1.y, a[2]*(v1.z+nudge) ) );\n                    geometry.vertices.push( new THREE.Vector3( a[0]*v2.x, a[1]*v2.y, a[2]*(v2.z+nudge) ) );\n                }\n            }\n\n            var material = new THREE.LineBasicMaterial( { color: 'black', linewidth: 1 } );\n\n            var c = new THREE.Vector3();\n            geometry.computeBoundingBox();\n            geometry.boundingBox.getCenter( c );\n            geometry.translate( -c.x, -c.y, -c.z );\n\n            var mesh = new THREE.LineSegments( geometry, material );\n            mesh.position.set( c.x, c.y, c.z );\n            scene.add( mesh );\n\n        }\n\n    }\n\n    var scratch = new THREE.Vector3();\n\n    function render() {\n\n        if ( animate ) requestAnimationFrame( render );\n        renderer.render( scene, camera );\n\n        // Resize text based on distance from camera.\n        // Not neccessary for orthographic due to the nature of the projection (preserves sizes).\n        if ( !camera.isOrthographicCamera ) {\n            for ( var i=0 ; i < scene.children.length ; i++ ) {\n                if ( scene.children[i].type === 'Sprite' ) {\n                    var sprite = scene.children[i];\n                    var adjust = scratch.addVectors( sprite.position, scene.position )\n                                    .sub( camera.position ).length() / 5;\n                    sprite.scale.set( adjust, .25*adjust ); // ratio of canvas width to height\n                }\n            }\n        }\n    }\n    \n    render();\n    controls.update();\n    if ( !animate ) render();\n\n\n    // menu functions\n\n    function toggleMenu() {\n\n        var m = document.getElementById( 'menu-content' );\n        if ( m.style.display === 'block' ) m.style.display = 'none'\n        else m.style.display = 'block';\n\n    }\n\n\n    function saveAsPNG() {\n\n        var a = document.body.appendChild( document.createElement( 'a' ) );\n        a.href = renderer.domElement.toDataURL( 'image/png' );\n        a.download = 'screenshot';\n        a.click();\n\n    }\n\n    function saveAsHTML() {\n\n        toggleMenu(); // otherwise visible in output\n        event.stopPropagation();\n\n        var blob = new Blob( [ '<!DOCTYPE html>\\n' + document.documentElement.outerHTML ] );\n        var a = document.body.appendChild( document.createElement( 'a' ) );\n        a.href = window.URL.createObjectURL( blob );\n        a.download = 'graphic.html';\n        a.click();\n\n    }\n\n    function getViewpoint() {\n\n        var info = '<pre>' + JSON.stringify( camera, null, '\\t' ) + '</pre>';\n        window.open().document.write( info );\n\n    }\n\n</script>\n\n<div id=&quot;menu-container&quot; onclick=&quot;toggleMenu()&quot;>&#x24d8;\n<div id=&quot;menu-content&quot;>\n<div onclick=&quot;saveAsPNG()&quot;>Save as PNG</div>\n<div onclick=&quot;saveAsHTML()&quot;>Save as HTML</div>\n<div onclick=&quot;getViewpoint()&quot;>Camera Info</div>\n<div>Close Menu</div>\n</div></div>\n\n</body>\n</html>\n\"\n        width=\"100%\"\n        height=\"400\"\n        style=\"border: 0;\">\n</iframe>\n",
      "text/plain": [
       "Graphics3d Object"
      ]
     },
     "execution_count": 33,
     "metadata": {
     },
     "output_type": "execute_result"
    },
    {
     "name": "stdout",
     "output_type": "stream",
     "text": [
      "[[ 1  2  3  1]\n",
      "[ 4  5  7  2]\n",
      "[11 15 13  3], [   1    0    0 -1/5]\n",
      "[   0    1    0    0]\n",
      "[   0    0    1  2/5], 3, 25, 3, 3, 0, [   1    0    0 -1/5]\n",
      "[   0    1    0    0]\n",
      "[   0    0    1  2/5], (-1/5, 0, 2/5)]\n"
     ]
    }
   ],
   "source": [
    "L = fun(matrix(QQ,3,[1,2,3,4,5,7,11,15,13]), vector(QQ,[1,2,3]))\n",
    "print(L)\n"
   ]
  },
  {
   "cell_type": "code",
   "execution_count": 12,
   "metadata": {
    "collapsed": false
   },
   "outputs": [
    {
     "name": "stdout",
     "output_type": "stream",
     "text": [
      "matrix is full rank,invertible,Only has one solution\n",
      "[[1 0]\n",
      "[0 1], 11, 2, 2, [ 1 -2  7]\n",
      "[ 2  7  3], 2]\n",
      "matrix is not full rank, not invertible, No solution or infinate solution\n",
      "[[1 3]\n",
      "[0 0], 0, 2, 2, [1 3 7]\n",
      "[1 3 3], 2]\n",
      "matrix is not full rank, not invertible, No solution or infinate solution\n",
      "[[1 3]\n",
      "[0 0], 0, 2, 2, [1 3 7]\n",
      "[1 3 3], 2]\n"
     ]
    }
   ],
   "source": [
    "#Question3\n",
    "#A= matrix( [[1,-2], [2,7]])\n",
    "#b=vector\n",
    "def fun(A,b):\n",
    "    R=A.rref()\n",
    "    D=A.det()\n",
    "    C=A.ncols()\n",
    "    T=A.nrows()\n",
    "    AU=A.augment(b)\n",
    "    RA=AU.rank()\n",
    "    if D==0:\n",
    "        print(\"matrix is not full rank, not invertible, No solution or infinate solution\")\n",
    "    else:\n",
    "        print(\"matrix is full rank,invertible,Only has one solution\")\n",
    "    if RA<C:\n",
    "        print(\"infinit solutions\")\n",
    "    if RA<T:\n",
    "        print(\"no solution\")\n",
    "#If A is a square matrix, then if A is invertible every equation Ax = b has one and only one solution.It follows that the equation Ax = b has exactly one solution, namely x = A−1b, for any b.Ax = b will have either no solution, or an infinite number of solutions.If rank(A|b)=rank(A)< n then there are infinitely many solutions to the system. In this case, we see that the row-echelon form of the matrix has a row of zeroes at the bottom and this means that at least one of the variables is a free variable. If rank(A|b)>rank(A) then there are no solutions\n",
    "\n",
    "    return [R,D,C,T,AU,RA]\n",
    "L=fun(matrix(QQ, [[1,-2], [2,7]]),vector(QQ,[7,3]))\n",
    "print(L)\n",
    "\n",
    "LL=fun(matrix(QQ, [[1,3],[1,3]]),vector(QQ,[7,3]))\n",
    "print(LL)\n",
    "LLL=fun(matrix(QQ, [[1,2],[2,4]]),vector(QQ,[1,1]))\n",
    "print(LL)"
   ]
  },
  {
   "cell_type": "code",
   "execution_count": 11,
   "metadata": {
    "collapsed": false
   },
   "outputs": [
    {
     "name": "stdout",
     "output_type": "stream",
     "text": [
      "[  1   0   0]\n",
      "[  0   1 1/2]\n"
     ]
    }
   ],
   "source": [
    "#Question 4\n",
    "# Linear combination of vector [1,2]. We can introduced two matrices and see if they're linear combination of the vector by checking their augmented matrix. or use solve_right()\n",
    "# c1u+c2v=w c1 and c2 are the last row of the reduced row echolen of the augmented matrix. example below: 1/2[2,4]=[1,2]\n",
    "u= matrix(QQ,[[6],[8]])\n",
    "v= matrix(QQ,[[2],[4]])\n",
    "w=vector([1,2])\n",
    "print(u.augment(v).augment(w).rref())"
   ]
  },
  {
   "cell_type": "code",
   "execution_count": 33,
   "metadata": {
    "collapsed": false
   },
   "outputs": [
    {
     "name": "stdout",
     "output_type": "stream",
     "text": [
      "(0, 1/2)\n"
     ]
    }
   ],
   "source": [
    "#or with solve_right()\n",
    "u= matrix(QQ,[[6],[8]])\n",
    "v= matrix(QQ,[[2],[4]])\n",
    "w=vector([1,2])\n",
    "print(u.augment(v).solve_right(w))"
   ]
  },
  {
   "cell_type": "code",
   "execution_count": 7,
   "metadata": {
    "collapsed": false
   },
   "outputs": [
    {
     "name": "stdout",
     "output_type": "stream",
     "text": [
      "[0 0]\n",
      "[1 2]\n",
      "[2 4]\n",
      "[3 6]\n",
      "[4 8]\n",
      "[ 5 10]\n",
      "[ 6 12]\n",
      "[ 7 14]\n",
      "[ 8 16]\n",
      "[ 9 18]\n",
      "[10 20]\n",
      "[11 22]\n",
      "[12 24]\n",
      "[13 26]\n",
      "[14 28]\n",
      "[15 30]\n",
      "[16 32]\n",
      "[17 34]\n",
      "[18 36]\n",
      "[19 38]\n",
      "[20 40]\n",
      "[21 42]\n",
      "[22 44]\n",
      "[23 46]\n",
      "[24 48]\n"
     ]
    }
   ],
   "source": [
    "# trial 1: vector=[1,2] scalars=[1,2] print(scalars*vector) = can't multiply sequence by non-int of type 'list'\n",
    "# tiral 2: vector=[1,2] scalars=[1,2,3,4,5] sum([scalars[i]*vector[i] for i in range(2)])= only can use for range 2 and gives one outcome\n",
    "# tiral 3: vector=[1,2] scalars=RR.randome_current() for i in range(25): sum(scalars*vector)=object has no attribute 'randome_current' the randome formula is not working for some reason\n",
    "# trial 4:not sure why I had to use np for it to work- I wanted to generate the 25 number randomly but i coundt find a way \n",
    "import numpy as np\n",
    "for i in range(25):\n",
    "    v=[1,2]\n",
    "    A = np.array(i)\n",
    "    m=A*v\n",
    "    print(m)"
   ]
  },
  {
   "cell_type": "code",
   "execution_count": 32,
   "metadata": {
    "collapsed": false
   },
   "outputs": [
    {
     "name": "stdout",
     "output_type": "stream",
     "text": [
      "[[0 0]\n",
      " [0 0]]\n",
      "the linear combination is:\n",
      "[0 0]\n",
      "[[1 2]\n",
      " [2 4]]\n",
      "the linear combination is:\n",
      "[3 6]\n",
      "[[2 4]\n",
      " [4 8]]\n",
      "the linear combination is:\n",
      "[ 6 12]\n",
      "[[ 3  6]\n",
      " [ 6 12]]\n",
      "the linear combination is:\n",
      "[ 9 18]\n",
      "[[ 4  8]\n",
      " [ 8 16]]\n",
      "the linear combination is:\n",
      "[12 24]\n",
      "[[ 5 10]\n",
      " [10 20]]\n",
      "the linear combination is:\n",
      "[15 30]\n",
      "[[ 6 12]\n",
      " [12 24]]\n",
      "the linear combination is:\n",
      "[18 36]\n",
      "[[ 7 14]\n",
      " [14 28]]\n",
      "the linear combination is:\n",
      "[21 42]\n",
      "[[ 8 16]\n",
      " [16 32]]\n",
      "the linear combination is:\n",
      "[24 48]\n",
      "[[ 9 18]\n",
      " [18 36]]\n",
      "the linear combination is:\n",
      "[27 54]\n",
      "[[10 20]\n",
      " [20 40]]\n",
      "the linear combination is:\n",
      "[30 60]\n",
      "[[11 22]\n",
      " [22 44]]\n",
      "the linear combination is:\n",
      "[33 66]\n",
      "[[12 24]\n",
      " [24 48]]\n",
      "the linear combination is:\n",
      "[36 72]\n",
      "[[13 26]\n",
      " [26 52]]\n",
      "the linear combination is:\n",
      "[39 78]\n",
      "[[14 28]\n",
      " [28 56]]\n",
      "the linear combination is:\n",
      "[42 84]\n",
      "[[15 30]\n",
      " [30 60]]\n",
      "the linear combination is:\n",
      "[45 90]\n",
      "[[16 32]\n",
      " [32 64]]\n",
      "the linear combination is:\n",
      "[48 96]\n",
      "[[17 34]\n",
      " [34 68]]\n",
      "the linear combination is:\n",
      "[ 51 102]\n",
      "[[18 36]\n",
      " [36 72]]\n",
      "the linear combination is:\n",
      "[ 54 108]\n",
      "[[19 38]\n",
      " [38 76]]\n",
      "the linear combination is:\n",
      "[ 57 114]\n",
      "[[20 40]\n",
      " [40 80]]\n",
      "the linear combination is:\n",
      "[ 60 120]\n",
      "[[21 42]\n",
      " [42 84]]\n",
      "the linear combination is:\n",
      "[ 63 126]\n",
      "[[22 44]\n",
      " [44 88]]\n",
      "the linear combination is:\n",
      "[ 66 132]\n",
      "[[23 46]\n",
      " [46 92]]\n",
      "the linear combination is:\n",
      "[ 69 138]\n",
      "[[24 48]\n",
      " [48 96]]\n",
      "the linear combination is:\n",
      "[ 72 144]\n"
     ]
    }
   ],
   "source": [
    "# problem with sum is this adds rows all togther rather than row 1 to row 1 and row 2 to row 2. so in order to add rows toghter I had to intoduced the vectors as matrices\n",
    "# to use  np.sum(m, axis=1) not sure this is the right way. \n",
    "import numpy as np\n",
    "for i in range(25):\n",
    "    u=matrix([[1],[2]])\n",
    "    v= matrix([[2],[4]])\n",
    "    g=u.augment(v)\n",
    "    A = np.array(i)\n",
    "    m=A*g\n",
    "    print(m)\n",
    "    s=np.sum(m, axis=1)\n",
    "    print(\"the linear combination is:\")\n",
    "    print(s)"
   ]
  },
  {
   "cell_type": "code",
   "execution_count": 33,
   "metadata": {
    "collapsed": false
   },
   "outputs": [
    {
     "name": "stdout",
     "output_type": "stream",
     "text": [
      "[[0 0 0]\n",
      " [0 0 0]]\n",
      "the linear combination is:\n",
      "[0 0]\n",
      "[[1 2 4]\n",
      " [2 4 8]]\n",
      "the linear combination is:\n",
      "[ 7 14]\n",
      "[[ 2  4  8]\n",
      " [ 4  8 16]]\n",
      "the linear combination is:\n",
      "[14 28]\n",
      "[[ 3  6 12]\n",
      " [ 6 12 24]]\n",
      "the linear combination is:\n",
      "[21 42]\n",
      "[[ 4  8 16]\n",
      " [ 8 16 32]]\n",
      "the linear combination is:\n",
      "[28 56]\n",
      "[[ 5 10 20]\n",
      " [10 20 40]]\n",
      "the linear combination is:\n",
      "[35 70]\n",
      "[[ 6 12 24]\n",
      " [12 24 48]]\n",
      "the linear combination is:\n",
      "[42 84]\n",
      "[[ 7 14 28]\n",
      " [14 28 56]]\n",
      "the linear combination is:\n",
      "[49 98]\n",
      "[[ 8 16 32]\n",
      " [16 32 64]]\n",
      "the linear combination is:\n",
      "[ 56 112]\n",
      "[[ 9 18 36]\n",
      " [18 36 72]]\n",
      "the linear combination is:\n",
      "[ 63 126]\n",
      "[[10 20 40]\n",
      " [20 40 80]]\n",
      "the linear combination is:\n",
      "[ 70 140]\n",
      "[[11 22 44]\n",
      " [22 44 88]]\n",
      "the linear combination is:\n",
      "[ 77 154]\n",
      "[[12 24 48]\n",
      " [24 48 96]]\n",
      "the linear combination is:\n",
      "[ 84 168]\n",
      "[[ 13  26  52]\n",
      " [ 26  52 104]]\n",
      "the linear combination is:\n",
      "[ 91 182]\n",
      "[[ 14  28  56]\n",
      " [ 28  56 112]]\n",
      "the linear combination is:\n",
      "[ 98 196]\n",
      "[[ 15  30  60]\n",
      " [ 30  60 120]]\n",
      "the linear combination is:\n",
      "[105 210]\n",
      "[[ 16  32  64]\n",
      " [ 32  64 128]]\n",
      "the linear combination is:\n",
      "[112 224]\n",
      "[[ 17  34  68]\n",
      " [ 34  68 136]]\n",
      "the linear combination is:\n",
      "[119 238]\n",
      "[[ 18  36  72]\n",
      " [ 36  72 144]]\n",
      "the linear combination is:\n",
      "[126 252]\n",
      "[[ 19  38  76]\n",
      " [ 38  76 152]]\n",
      "the linear combination is:\n",
      "[133 266]\n",
      "[[ 20  40  80]\n",
      " [ 40  80 160]]\n",
      "the linear combination is:\n",
      "[140 280]\n",
      "[[ 21  42  84]\n",
      " [ 42  84 168]]\n",
      "the linear combination is:\n",
      "[147 294]\n",
      "[[ 22  44  88]\n",
      " [ 44  88 176]]\n",
      "the linear combination is:\n",
      "[154 308]\n",
      "[[ 23  46  92]\n",
      " [ 46  92 184]]\n",
      "the linear combination is:\n",
      "[161 322]\n",
      "[[ 24  48  96]\n",
      " [ 48  96 192]]\n",
      "the linear combination is:\n",
      "[168 336]\n"
     ]
    }
   ],
   "source": [
    "import numpy as np\n",
    "for i in range(25):\n",
    "    u=matrix([[1],[2]])\n",
    "    v= matrix([[2],[4]])\n",
    "    s= matrix([[4],[8]])\n",
    "    g=u.augment(v).augment(s)\n",
    "    A = np.array(i)\n",
    "    m=A*g\n",
    "    print(m)\n",
    "    s=np.sum(m, axis=1)\n",
    "    print(\"the linear combination is:\")\n",
    "    print(s)"
   ]
  },
  {
   "cell_type": "code",
   "execution_count": 34,
   "metadata": {
    "collapsed": false
   },
   "outputs": [
    {
     "name": "stdout",
     "output_type": "stream",
     "text": [
      "[[0 0 0]\n",
      " [0 0 0]]\n",
      "the linear combination is:\n",
      "[0 0]\n",
      "[[ 1  2  1]\n",
      " [ 2  4 -8]]\n",
      "the linear combination is:\n",
      "[ 4 -2]\n",
      "[[  2   4   2]\n",
      " [  4   8 -16]]\n",
      "the linear combination is:\n",
      "[ 8 -4]\n",
      "[[  3   6   3]\n",
      " [  6  12 -24]]\n",
      "the linear combination is:\n",
      "[12 -6]\n",
      "[[  4   8   4]\n",
      " [  8  16 -32]]\n",
      "the linear combination is:\n",
      "[16 -8]\n",
      "[[  5  10   5]\n",
      " [ 10  20 -40]]\n",
      "the linear combination is:\n",
      "[ 20 -10]\n",
      "[[  6  12   6]\n",
      " [ 12  24 -48]]\n",
      "the linear combination is:\n",
      "[ 24 -12]\n",
      "[[  7  14   7]\n",
      " [ 14  28 -56]]\n",
      "the linear combination is:\n",
      "[ 28 -14]\n",
      "[[  8  16   8]\n",
      " [ 16  32 -64]]\n",
      "the linear combination is:\n",
      "[ 32 -16]\n",
      "[[  9  18   9]\n",
      " [ 18  36 -72]]\n",
      "the linear combination is:\n",
      "[ 36 -18]\n",
      "[[ 10  20  10]\n",
      " [ 20  40 -80]]\n",
      "the linear combination is:\n",
      "[ 40 -20]\n",
      "[[ 11  22  11]\n",
      " [ 22  44 -88]]\n",
      "the linear combination is:\n",
      "[ 44 -22]\n",
      "[[ 12  24  12]\n",
      " [ 24  48 -96]]\n",
      "the linear combination is:\n",
      "[ 48 -24]\n",
      "[[  13   26   13]\n",
      " [  26   52 -104]]\n",
      "the linear combination is:\n",
      "[ 52 -26]\n",
      "[[  14   28   14]\n",
      " [  28   56 -112]]\n",
      "the linear combination is:\n",
      "[ 56 -28]\n",
      "[[  15   30   15]\n",
      " [  30   60 -120]]\n",
      "the linear combination is:\n",
      "[ 60 -30]\n",
      "[[  16   32   16]\n",
      " [  32   64 -128]]\n",
      "the linear combination is:\n",
      "[ 64 -32]\n",
      "[[  17   34   17]\n",
      " [  34   68 -136]]\n",
      "the linear combination is:\n",
      "[ 68 -34]\n",
      "[[  18   36   18]\n",
      " [  36   72 -144]]\n",
      "the linear combination is:\n",
      "[ 72 -36]\n",
      "[[  19   38   19]\n",
      " [  38   76 -152]]\n",
      "the linear combination is:\n",
      "[ 76 -38]\n",
      "[[  20   40   20]\n",
      " [  40   80 -160]]\n",
      "the linear combination is:\n",
      "[ 80 -40]\n",
      "[[  21   42   21]\n",
      " [  42   84 -168]]\n",
      "the linear combination is:\n",
      "[ 84 -42]\n",
      "[[  22   44   22]\n",
      " [  44   88 -176]]\n",
      "the linear combination is:\n",
      "[ 88 -44]\n",
      "[[  23   46   23]\n",
      " [  46   92 -184]]\n",
      "the linear combination is:\n",
      "[ 92 -46]\n",
      "[[  24   48   24]\n",
      " [  48   96 -192]]\n",
      "the linear combination is:\n",
      "[ 96 -48]\n"
     ]
    }
   ],
   "source": [
    "import numpy as np\n",
    "for i in range(25):\n",
    "    u=matrix([[1],[2]])\n",
    "    v= matrix([[2],[4]])\n",
    "    s= matrix([[1],[-8]])\n",
    "    g=u.augment(v).augment(s)\n",
    "    A = np.array(i)\n",
    "    m=A*g\n",
    "    print(m)\n",
    "    s=np.sum(m, axis=1)\n",
    "    print(\"the linear combination is:\")\n",
    "    print(s)"
   ]
  },
  {
   "cell_type": "code",
   "execution_count": 51,
   "metadata": {
    "collapsed": false
   },
   "outputs": [
    {
     "name": "stdout",
     "output_type": "stream",
     "text": [
      "[1 2 1]\n",
      "[0 0 0]\n"
     ]
    }
   ],
   "source": [
    "# Linear combination of vector [1,2]. We can introduced two matrices and see if they're linear combination of the vector by checking their augmented matrix. or use solve_right()\n",
    "# c1u+c2v=w c1 and c2 are the last row of the reduced row echolen of the augmented matrix. This example c1=1 c2=0\n",
    "u= matrix(QQ,[[1],[2]])\n",
    "v= matrix(QQ,[[2],[4]])\n",
    "w=vector([1,2])\n",
    "print(u.augment(v).augment(w).rref())\n"
   ]
  },
  {
   "cell_type": "code",
   "execution_count": 54,
   "metadata": {
    "collapsed": false
   },
   "outputs": [
    {
     "name": "stdout",
     "output_type": "stream",
     "text": [
      "[1 2 4 1]\n",
      "[0 0 0 0]\n"
     ]
    }
   ],
   "source": [
    "#every other w I tried ended up with not being a solution rref last row was inconistant\n",
    "u= matrix(QQ,[[1],[2]])\n",
    "v= matrix(QQ,[[2],[4]])\n",
    "s= matrix(QQ,[[4],[8]])\n",
    "w=vector([1,2])\n",
    "print(u.augment(v).augment(s).augment(w).rref())"
   ]
  },
  {
   "cell_type": "code",
   "execution_count": 56,
   "metadata": {
    "collapsed": false
   },
   "outputs": [
    {
     "name": "stdout",
     "output_type": "stream",
     "text": [
      "[    1     2     0 47/10]\n",
      "[    0     0     1  3/10]\n"
     ]
    }
   ],
   "source": [
    "u= matrix(QQ,[[1],[2]])\n",
    "v= matrix(QQ,[[2],[4]])\n",
    "s= matrix(QQ,[[1],[-8]])\n",
    "w=vector([5,7])\n",
    "print(u.augment(v).augment(s).augment(w).rref())"
   ]
  },
  {
   "cell_type": "code",
   "execution_count": 2,
   "metadata": {
    "collapsed": false
   },
   "outputs": [
    {
     "name": "stdout",
     "output_type": "stream",
     "text": [
      "[1 2 0]\n",
      "[0 0 1]\n"
     ]
    }
   ],
   "source": [
    "#not linear combination\n",
    "u= matrix(QQ,[[1],[2]])\n",
    "v= matrix(QQ,[[2],[4]])\n",
    "w=vector([3,12])\n",
    "print(u.augment(v).augment(w).rref())"
   ]
  },
  {
   "cell_type": "code",
   "execution_count": 3,
   "metadata": {
    "collapsed": false
   },
   "outputs": [
    {
     "name": "stdout",
     "output_type": "stream",
     "text": [
      "[1 2 4 0]\n",
      "[0 0 0 1]\n"
     ]
    }
   ],
   "source": [
    "u= matrix(QQ,[[1],[2]])\n",
    "v= matrix(QQ,[[2],[4]])\n",
    "s= matrix(QQ,[[4],[8]])\n",
    "w=vector([4,5])\n",
    "print(u.augment(v).augment(s).augment(w).rref())"
   ]
  },
  {
   "cell_type": "code",
   "execution_count": 30,
   "metadata": {
    "collapsed": false
   },
   "outputs": [
    {
     "name": "stdout",
     "output_type": "stream",
     "text": [
      "[ 1  0]\n",
      "[ 0 -1]\n",
      "[ 1  0]\n",
      "0.42165968380414187\n",
      "[ 0.42165968 -0.42165968  0.42165968]\n"
     ]
    }
   ],
   "source": [
    "# have to import random to get random!!!random.randint(a,b)- random.random()-random.randrange(start, stop[, step])\n",
    "import numpy as np\n",
    "import random\n",
    "import matplotlib.pyplot as plt\n",
    "u= matrix(QQ,[[1],[0],[1]])\n",
    "v= matrix(QQ,[[0],[-1],[0]])\n",
    "g=u.augment(v)\n",
    "print(g)\n",
    "a=random.random()\n",
    "print(a)\n",
    "m=a*g\n",
    "s=np.sum(m, axis=1)\n",
    "print(s)\n"
   ]
  },
  {
   "cell_type": "code",
   "execution_count": 34,
   "metadata": {
    "collapsed": false
   },
   "outputs": [
    {
     "data": {
      "text/html": "\n<iframe srcdoc=\"<!DOCTYPE html>\n<html>\n<head>\n<title></title>\n<meta charset=&quot;utf-8&quot;>\n<meta name=viewport content=&quot;width=device-width, user-scalable=no, minimum-scale=1.0, maximum-scale=1.0&quot;>\n<style>\n\n    body { margin: 0px; overflow: hidden; }\n\n    #menu-container { position: absolute; bottom: 30px; right: 40px; }\n\n    #menu-content { position: absolute; bottom: 0px; right: 0px;\n                    display: none; background-color: #F5F5F5; border-bottom: 1px solid black;\n                    border-right: 1px solid black; border-left: 1px solid black; }\n\n    #menu-content div { border-top: 1px solid black; padding: 10px; white-space: nowrap; }\n  \n</style>\n</head>\n\n<body>\n\n<script src=&quot;/nbextensions/threejs/build/three.min.js&quot;></script>\n<script src=&quot;/nbextensions/threejs/examples/js/controls/OrbitControls.js&quot;></script>\n<script>\n  if ( !window.THREE ) document.write(' \\\n<script src=&quot;https://cdn.jsdelivr.net/gh/mrdoob/three.js@r110/build/three.min.js&quot;><\\/script> \\\n<script src=&quot;https://cdn.jsdelivr.net/gh/mrdoob/three.js@r110/examples/js/controls/OrbitControls.js&quot;><\\/script> \\\n            ');\n</script>\n        \n<script>\n\n    var scene = new THREE.Scene();\n\n    var renderer = new THREE.WebGLRenderer( { antialias: true, preserveDrawingBuffer: true } );\n    renderer.setPixelRatio( window.devicePixelRatio );\n    renderer.setSize( window.innerWidth, window.innerHeight );\n    renderer.setClearColor( 0xffffff, 1 );\n    document.body.appendChild( renderer.domElement );\n\n    var options = {&quot;aspect_ratio&quot;: [1.0, 1.0, 1.0], &quot;axes&quot;: false, &quot;axes_labels&quot;: [&quot;x&quot;, &quot;y&quot;, &quot;z&quot;], &quot;decimals&quot;: 2, &quot;frame&quot;: true, &quot;projection&quot;: &quot;perspective&quot;};\n\n    // When animations are supported by the viewer, the value 'false'\n    // will be replaced with an option set in Python by the user\n    var animate = false; // options.animate;\n\n    var b = [{&quot;x&quot;:0.0, &quot;y&quot;:-1.0, &quot;z&quot;:0.0}, {&quot;x&quot;:1.0, &quot;y&quot;:0.0, &quot;z&quot;:1.0}]; // bounds\n\n    if ( b[0].x === b[1].x ) {\n        b[0].x -= 1;\n        b[1].x += 1;\n    }\n    if ( b[0].y === b[1].y ) {\n        b[0].y -= 1;\n        b[1].y += 1;\n    }\n    if ( b[0].z === b[1].z ) {\n        b[0].z -= 1;\n        b[1].z += 1;\n    }\n\n    var rRange = Math.sqrt( Math.pow( b[1].x - b[0].x, 2 )\n                            + Math.pow( b[1].y - b[0].y, 2 ) );\n    var xRange = b[1].x - b[0].x;\n    var yRange = b[1].y - b[0].y;\n    var zRange = b[1].z - b[0].z;\n\n    var ar = options.aspect_ratio;\n    var a = [ ar[0], ar[1], ar[2] ]; // aspect multipliers\n    var autoAspect = 2.5;\n    if ( zRange > autoAspect * rRange && a[2] === 1 ) a[2] = autoAspect * rRange / zRange;\n\n    // Distance from (xMid,yMid,zMid) to any corner of the bounding box, after applying aspect_ratio.\n    var midToCorner = Math.sqrt( a[0]*a[0]*xRange*xRange + a[1]*a[1]*yRange*yRange + a[2]*a[2]*zRange*zRange ) / 2;\n\n    var xMid = ( b[0].x + b[1].x ) / 2;\n    var yMid = ( b[0].y + b[1].y ) / 2;\n    var zMid = ( b[0].z + b[1].z ) / 2;\n\n    var box = new THREE.Geometry();\n    box.vertices.push( new THREE.Vector3( a[0]*b[0].x, a[1]*b[0].y, a[2]*b[0].z ) );\n    box.vertices.push( new THREE.Vector3( a[0]*b[1].x, a[1]*b[1].y, a[2]*b[1].z ) );\n    var boxMesh = new THREE.Line( box );\n    if ( options.frame ) scene.add( new THREE.BoxHelper( boxMesh, 'black' ) );\n\n    if ( options.axes_labels ) {\n\n        var d = options.decimals; // decimals\n        var offsetRatio = 0.1;\n        var al = options.axes_labels;\n\n        var offset = offsetRatio * a[1]*( b[1].y - b[0].y );\n        var xm = xMid.toFixed(d);\n        if ( /^-0.?0*$/.test(xm) ) xm = xm.substr(1);\n        addLabel( al[0] + '=' + xm, a[0]*xMid, a[1]*b[1].y+offset, a[2]*b[0].z );\n        addLabel( ( b[0].x ).toFixed(d), a[0]*b[0].x, a[1]*b[1].y+offset, a[2]*b[0].z );\n        addLabel( ( b[1].x ).toFixed(d), a[0]*b[1].x, a[1]*b[1].y+offset, a[2]*b[0].z );\n\n        var offset = offsetRatio * a[0]*( b[1].x - b[0].x );\n        var ym = yMid.toFixed(d);\n        if ( /^-0.?0*$/.test(ym) ) ym = ym.substr(1);\n        addLabel( al[1] + '=' + ym, a[0]*b[1].x+offset, a[1]*yMid, a[2]*b[0].z );\n        addLabel( ( b[0].y ).toFixed(d), a[0]*b[1].x+offset, a[1]*b[0].y, a[2]*b[0].z );\n        addLabel( ( b[1].y ).toFixed(d), a[0]*b[1].x+offset, a[1]*b[1].y, a[2]*b[0].z );\n\n        var offset = offsetRatio * a[1]*( b[1].y - b[0].y );\n        var zm = zMid.toFixed(d);\n        if ( /^-0.?0*$/.test(zm) ) zm = zm.substr(1);\n        addLabel( al[2] + '=' + zm, a[0]*b[1].x, a[1]*b[0].y-offset, a[2]*zMid );\n        addLabel( ( b[0].z ).toFixed(d), a[0]*b[1].x, a[1]*b[0].y-offset, a[2]*b[0].z );\n        addLabel( ( b[1].z ).toFixed(d), a[0]*b[1].x, a[1]*b[0].y-offset, a[2]*b[1].z );\n\n    }\n\n    function addLabel( text, x, y, z ) {\n\n        var fontsize = 14;\n\n        var canvas = document.createElement( 'canvas' );\n        var pixelRatio = Math.round( window.devicePixelRatio );\n        canvas.width = 128 * pixelRatio;\n        canvas.height = 32 * pixelRatio; // powers of two\n        canvas.style.width = '128px';\n        canvas.style.height = '32px';\n\n        var context = canvas.getContext( '2d' );\n        context.scale( pixelRatio, pixelRatio );\n        context.fillStyle = 'black';\n        context.font = fontsize + 'px monospace';\n        context.textAlign = 'center';\n        context.textBaseline = 'middle';\n        context.fillText( text, canvas.width/2/pixelRatio, canvas.height/2/pixelRatio );\n\n        var texture = new THREE.Texture( canvas );\n        texture.needsUpdate = true;\n\n        var sprite = new THREE.Sprite( new THREE.SpriteMaterial( { map: texture } ) );\n        sprite.position.set( x, y, z );\n\n        // Set the initial scale based on plot size to accomodate orthographic projection.\n        // For other projections, the scale will get reset each frame based on camera distance.\n        var scale = midToCorner/2;\n        sprite.scale.set( scale, scale*.25 ); // ratio of canvas width to height\n\n        scene.add( sprite );\n\n    }\n\n    if ( options.axes ) scene.add( new THREE.AxesHelper( Math.min( a[0]*b[1].x, a[1]*b[1].y, a[2]*b[1].z ) ) );\n\n    var camera = createCamera();\n    camera.up.set( 0, 0, 1 );\n    camera.position.set( a[0]*(xMid+xRange), a[1]*(yMid+yRange), a[2]*(zMid+zRange) );\n\n    function createCamera() {\n\n        var aspect = window.innerWidth / window.innerHeight;\n\n        if ( options.projection === 'orthographic' ) {\n            var camera = new THREE.OrthographicCamera( -1, 1, 1, -1, -1000, 1000 );\n            updateCameraAspect( camera, aspect );\n            return camera;\n        }\n\n        return new THREE.PerspectiveCamera( 45, aspect, 0.1, 1000 );\n\n    }\n\n    function updateCameraAspect( camera, aspect ) {\n\n        if ( camera.isPerspectiveCamera ) {\n            camera.aspect = aspect;\n        } else if ( camera.isOrthographicCamera ) {\n            // Fit the camera frustum to the bounding box's diagonal so that the entire plot fits\n            // within at the default zoom level and camera position.\n            if ( aspect > 1 ) { // Wide window\n                camera.top = midToCorner;\n                camera.right = midToCorner * aspect;\n            } else { // Tall or square window\n                camera.top = midToCorner / aspect;\n                camera.right = midToCorner;\n            }\n            camera.bottom = -camera.top;\n            camera.left = -camera.right;\n        }\n\n        camera.updateProjectionMatrix();\n\n    }\n\n    var lights = [{&quot;x&quot;:-5, &quot;y&quot;:3, &quot;z&quot;:0, &quot;color&quot;:&quot;#7f7f7f&quot;, &quot;parent&quot;:&quot;camera&quot;}];\n    for ( var i=0 ; i < lights.length ; i++ ) {\n        var light = new THREE.DirectionalLight( lights[i].color, 1 );\n        light.position.set( a[0]*lights[i].x, a[1]*lights[i].y, a[2]*lights[i].z );\n        if ( lights[i].parent === 'camera' ) {\n            light.target.position.set( a[0]*xMid, a[1]*yMid, a[2]*zMid );\n            scene.add( light.target );\n            camera.add( light );\n        } else scene.add( light );\n    }\n    scene.add( camera );\n\n    var ambient = {&quot;color&quot;:&quot;#7f7f7f&quot;};\n    scene.add( new THREE.AmbientLight( ambient.color, 1 ) );\n\n    var controls = new THREE.OrbitControls( camera, renderer.domElement );\n    controls.target.set( a[0]*xMid, a[1]*yMid, a[2]*zMid );\n    controls.addEventListener( 'change', function() { if ( !animate ) render(); } );\n\n    window.addEventListener( 'resize', function() {\n        \n        renderer.setSize( window.innerWidth, window.innerHeight );\n        updateCameraAspect( camera, window.innerWidth / window.innerHeight );\n        if ( !animate ) render();\n        \n    } );\n\n    var texts = [];\n    for ( var i=0 ; i < texts.length ; i++ )\n        addLabel( texts[i].text, a[0]*texts[i].x, a[1]*texts[i].y, a[2]*texts[i].z );\n\n    var points = [];\n    for ( var i=0 ; i < points.length ; i++ ) addPoint( points[i] );\n\n    function addPoint( json ) {\n\n        var geometry = new THREE.Geometry();\n        var v = json.point;\n        geometry.vertices.push( new THREE.Vector3( a[0]*v[0], a[1]*v[1], a[2]*v[2] ) );\n\n        var canvas = document.createElement( 'canvas' );\n        canvas.width = 128;\n        canvas.height = 128;\n\n        var context = canvas.getContext( '2d' );\n        context.arc( 64, 64, 64, 0, 2 * Math.PI );\n        context.fillStyle = json.color;\n        context.fill();\n\n        var texture = new THREE.Texture( canvas );\n        texture.needsUpdate = true;\n\n        var transparent = json.opacity < 1 ? true : false;\n        var size = camera.isOrthographicCamera ? json.size : json.size/100;\n        var material = new THREE.PointsMaterial( { size: size, map: texture,\n                                                   transparent: transparent, opacity: json.opacity,\n                                                   alphaTest: .1 } );\n\n        var c = new THREE.Vector3();\n        geometry.computeBoundingBox();\n        geometry.boundingBox.getCenter( c );\n        geometry.translate( -c.x, -c.y, -c.z );\n\n        var mesh = new THREE.Points( geometry, material );\n        mesh.position.set( c.x, c.y, c.z );\n        scene.add( mesh );\n\n    }\n\n    var lines = [{&quot;points&quot;:[[0.0, 0.0, 0.0], [1.0, 0.0, 1.0]], &quot;color&quot;:&quot;blue&quot;, &quot;opacity&quot;:1.0, &quot;linewidth&quot;:1},{&quot;points&quot;:[[0.0, 0.0, 0.0], [0.0, -1.0, 0.0]], &quot;color&quot;:&quot;blue&quot;, &quot;opacity&quot;:1.0, &quot;linewidth&quot;:1},{&quot;points&quot;:[[0.0, 0.0, 0.0], [0.42165968, -0.42165968, 0.42165968]], &quot;color&quot;:&quot;blue&quot;, &quot;opacity&quot;:1.0, &quot;linewidth&quot;:1}];\n    for ( var i=0 ; i < lines.length ; i++ ) addLine( lines[i] );\n\n    function addLine( json ) {\n\n        var geometry = new THREE.Geometry();\n        for ( var i=0 ; i < json.points.length ; i++ ) {\n            var v = json.points[i];\n            geometry.vertices.push( new THREE.Vector3( a[0]*v[0], a[1]*v[1], a[2]*v[2] ) );\n        }\n\n        var transparent = json.opacity < 1 ? true : false;\n        var material = new THREE.LineBasicMaterial( { color: json.color, linewidth: json.linewidth,\n                                                      transparent: transparent, opacity: json.opacity } );\n\n        var c = new THREE.Vector3();\n        geometry.computeBoundingBox();\n        geometry.boundingBox.getCenter( c );\n        geometry.translate( -c.x, -c.y, -c.z );\n\n        var mesh = new THREE.Line( geometry, material );\n        mesh.position.set( c.x, c.y, c.z );\n        scene.add( mesh );\n\n    }\n\n    var surfaces = [];\n    for ( var i=0 ; i < surfaces.length ; i++ ) addSurface( surfaces[i] );\n\n    function addSurface( json ) {\n\n        var useFaceColors = 'faceColors' in json ? true : false;\n\n        var geometry = new THREE.Geometry();\n        for ( var i=0 ; i < json.vertices.length ; i++ ) {\n            var v = json.vertices[i];\n            geometry.vertices.push( new THREE.Vector3( a[0]*v.x, a[1]*v.y, a[2]*v.z ) );\n        }\n        for ( var i=0 ; i < json.faces.length ; i++ ) {\n            var f = json.faces[i];\n            for ( var j=0 ; j < f.length - 2 ; j++ ) {\n                var face = new THREE.Face3( f[0], f[j+1], f[j+2] );\n                if ( useFaceColors ) face.color.set( json.faceColors[i] );\n                geometry.faces.push( face );\n            }\n        }\n        geometry.computeVertexNormals();\n\n        var side = json.singleSide ? THREE.FrontSide : THREE.DoubleSide;\n        var transparent = json.opacity < 1 ? true : false;\n\n        var material = new THREE.MeshPhongMaterial( { side: side,\n                                     color: useFaceColors ? 'white' : json.color,\n                                     vertexColors: useFaceColors ? THREE.FaceColors : THREE.NoColors,\n                                     transparent: transparent, opacity: json.opacity,\n                                     shininess: 20, flatShading: json.useFlatShading } );\n\n        var c = new THREE.Vector3();\n        geometry.computeBoundingBox();\n        geometry.boundingBox.getCenter( c );\n        geometry.translate( -c.x, -c.y, -c.z );\n\n        var mesh = new THREE.Mesh( geometry, material );\n        mesh.position.set( c.x, c.y, c.z );\n        if ( transparent && json.renderOrder ) mesh.renderOrder = json.renderOrder;\n        scene.add( mesh );\n\n        if ( json.showMeshGrid ) {\n\n            var geometry = new THREE.Geometry();\n\n            for ( var i=0 ; i < json.faces.length ; i++ ) {\n                var f = json.faces[i];\n                for ( var j=0 ; j < f.length ; j++ ) {\n                    var k = j === f.length-1 ? 0 : j+1;\n                    var v1 = json.vertices[f[j]];\n                    var v2 = json.vertices[f[k]];\n                    // vertices in opposite directions on neighboring faces\n                    var nudge = f[j] < f[k] ? .0005*zRange : -.0005*zRange;\n                    geometry.vertices.push( new THREE.Vector3( a[0]*v1.x, a[1]*v1.y, a[2]*(v1.z+nudge) ) );\n                    geometry.vertices.push( new THREE.Vector3( a[0]*v2.x, a[1]*v2.y, a[2]*(v2.z+nudge) ) );\n                }\n            }\n\n            var material = new THREE.LineBasicMaterial( { color: 'black', linewidth: 1 } );\n\n            var c = new THREE.Vector3();\n            geometry.computeBoundingBox();\n            geometry.boundingBox.getCenter( c );\n            geometry.translate( -c.x, -c.y, -c.z );\n\n            var mesh = new THREE.LineSegments( geometry, material );\n            mesh.position.set( c.x, c.y, c.z );\n            scene.add( mesh );\n\n        }\n\n    }\n\n    var scratch = new THREE.Vector3();\n\n    function render() {\n\n        if ( animate ) requestAnimationFrame( render );\n        renderer.render( scene, camera );\n\n        // Resize text based on distance from camera.\n        // Not neccessary for orthographic due to the nature of the projection (preserves sizes).\n        if ( !camera.isOrthographicCamera ) {\n            for ( var i=0 ; i < scene.children.length ; i++ ) {\n                if ( scene.children[i].type === 'Sprite' ) {\n                    var sprite = scene.children[i];\n                    var adjust = scratch.addVectors( sprite.position, scene.position )\n                                    .sub( camera.position ).length() / 5;\n                    sprite.scale.set( adjust, .25*adjust ); // ratio of canvas width to height\n                }\n            }\n        }\n    }\n    \n    render();\n    controls.update();\n    if ( !animate ) render();\n\n\n    // menu functions\n\n    function toggleMenu() {\n\n        var m = document.getElementById( 'menu-content' );\n        if ( m.style.display === 'block' ) m.style.display = 'none'\n        else m.style.display = 'block';\n\n    }\n\n\n    function saveAsPNG() {\n\n        var a = document.body.appendChild( document.createElement( 'a' ) );\n        a.href = renderer.domElement.toDataURL( 'image/png' );\n        a.download = 'screenshot';\n        a.click();\n\n    }\n\n    function saveAsHTML() {\n\n        toggleMenu(); // otherwise visible in output\n        event.stopPropagation();\n\n        var blob = new Blob( [ '<!DOCTYPE html>\\n' + document.documentElement.outerHTML ] );\n        var a = document.body.appendChild( document.createElement( 'a' ) );\n        a.href = window.URL.createObjectURL( blob );\n        a.download = 'graphic.html';\n        a.click();\n\n    }\n\n    function getViewpoint() {\n\n        var info = '<pre>' + JSON.stringify( camera, null, '\\t' ) + '</pre>';\n        window.open().document.write( info );\n\n    }\n\n</script>\n\n<div id=&quot;menu-container&quot; onclick=&quot;toggleMenu()&quot;>&#x24d8;\n<div id=&quot;menu-content&quot;>\n<div onclick=&quot;saveAsPNG()&quot;>Save as PNG</div>\n<div onclick=&quot;saveAsHTML()&quot;>Save as HTML</div>\n<div onclick=&quot;getViewpoint()&quot;>Camera Info</div>\n<div>Close Menu</div>\n</div></div>\n\n</body>\n</html>\n\"\n        width=\"100%\"\n        height=\"400\"\n        style=\"border: 0;\">\n</iframe>\n",
      "text/plain": [
       "Graphics3d Object"
      ]
     },
     "execution_count": 34,
     "metadata": {
     },
     "output_type": "execute_result"
    }
   ],
   "source": [
    "# I dont know how to code the plot continiously so that it plot the linear combination as a vector. the \n",
    "u= vector([1,0,1])\n",
    "v= vector([0,-1,0])\n",
    "l= vector([ 0.42165968,-0.42165968,0.42165968])\n",
    "show(plot(u)+plot(v)+plot(l))\n",
    "#The number of elements in any basis is the dimension of the vector space. We denote it dim V .A vector space is called finite dimensional if it has a basis with a finite number of elements, or infinite dimensional otherwise."
   ]
  },
  {
   "cell_type": "code",
   "execution_count": 21,
   "metadata": {
    "collapsed": false
   },
   "outputs": [
    {
     "name": "stdout",
     "output_type": "stream",
     "text": [
      "[-9 -4 -9  4 -7]\n",
      "[ 5 -8 -7  6 -7]\n",
      "[ 7 11 16 -9 13]\n",
      "[ 9 -7 -4  5 -5]\n",
      "[    1     0     0   3/4  -5/4]\n",
      "[    0     1     0   5/4 -11/4]\n",
      "[    0     0     1  -7/4  13/4]\n",
      "[    0     0     0     0     0]\n",
      "[ -5/4]\n",
      "[-11/4]\n",
      "[ 13/4]\n",
      "[    0]\n",
      "Vector space morphism represented by the matrix:\n",
      "[    1     0     0   3/4  -5/4]\n",
      "[    0     1     0   5/4 -11/4]\n",
      "[    0     0     1  -7/4  13/4]\n",
      "[    0     0     0     0     0]\n",
      "Domain: Vector space of dimension 4 over Rational Field\n",
      "Codomain: Vector space of dimension 5 over Rational Field\n"
     ]
    }
   ],
   "source": [
    "#Question 6: if the ax=b is consistant the b is the range of the transforamtion x\n",
    "A= matrix([[-9,-4,-9,4],[5,-8,-7,6],[7,11,16,-9],[9,-7,-4,5]])\n",
    "b=matrix([[-7],[-7],[13],[-5]])\n",
    "u=A.augment(b)\n",
    "print(u)\n",
    "r=u.rref()\n",
    "print(r)\n",
    "#the solution is consistant.\n",
    "s=A.solve_right(b)\n",
    "print(s)\n",
    "# not sure how to write x with Python.\n",
    "#x4=0 \n",
    "#x3-7/4*x4=13/4  x3=13/4+7/4*x4\n",
    "#x2+5/4*x3=-11/4 x2=-11/4-65/16+35/16*x4\n",
    "#x1+3/4*x4=-5/4  x1=-5/4-3/4*x4\n",
    "#[x1,x2,x3,x4]=[-5/4,-109/16,13/4,,0]+[-3/4,35/16,7/4,1]x4\n",
    "T=linear_transformation(QQ^4,QQ^5,r)\n",
    "print(T)"
   ]
  },
  {
   "cell_type": "code",
   "execution_count": 31,
   "metadata": {
    "collapsed": false,
    "scrolled": true
   },
   "outputs": [
    {
     "name": "stdout",
     "output_type": "stream",
     "text": [
      "[    1     0 -7/13     0     0]\n",
      "[    0     1 -2/13     0     0]\n",
      "[    0     0     0     1     0]\n",
      "[    0     0     0     0     1] 4\n"
     ]
    }
   ],
   "source": [
    "#Question 7\n",
    "A= matrix([[8,11,-6,-7,13],[-7,-8,5,6,-9],[11,7,-7,-9,-6],[-3,4,1,8,7]])\n",
    "r=A.rref()\n",
    "rr=A.rank()\n",
    "print(r,rr)\n",
    "# the matrix number of pivot enrties are 4 so it does span in R^4\n",
    "# The pivot enteries are 1 ,1 , 1 and 1 so the 3rd column can be removed."
   ]
  },
  {
   "cell_type": "code",
   "execution_count": 0,
   "metadata": {
    "collapsed": false
   },
   "outputs": [
   ],
   "source": [
    "#Question 8:\n",
    "#For matrices AB is not equal to BA. Another exception is that unlike every non zero real number, not every non zero matrix has an inverse and becuase of this when dividing matrix A by B, we have to find inverse of matrix B which may or may not exist. if it does there is two options A*B^-1 or B^-1*A.\n",
    "#5*A+2*B linear combination\n",
    "#Matrices Operations:\n",
    "#A.inverse() A=([[1,2],[3,4]]) A^-1=([[-2,1],[3/2,-1/2]])\n",
    "#A.transpose() A=([[1,2],[3,4]]) A^T=([[1,3],[2,4]])\n",
    "#Matrix Multiplication  A = matrix(QQ, [[1,2,3],[4,5,6]]) B = matrix(QQ, [[1,2],[3,4]]) B*A, B^6, A*B\n",
    "#.rref(), A.echelon_form() A=([[1,2],[3,4]]) rref A=[[1,0],[0,1]]"
   ]
  }
 ],
 "metadata": {
  "kernelspec": {
   "display_name": "SageMath 9.0",
   "language": "sagemath",
   "metadata": {
    "cocalc": {
     "description": "Open-source mathematical software system",
     "priority": 1,
     "url": "https://www.sagemath.org/"
    }
   },
   "name": "sage-9.0"
  },
  "language_info": {
   "codemirror_mode": {
    "name": "ipython",
    "version": 3
   },
   "file_extension": ".py",
   "mimetype": "text/x-python",
   "name": "python",
   "nbconvert_exporter": "python",
   "pygments_lexer": "ipython3",
   "version": "3.7.3"
  }
 },
 "nbformat": 4,
 "nbformat_minor": 0
}